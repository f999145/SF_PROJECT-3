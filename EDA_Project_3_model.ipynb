{
 "cells": [
  {
   "cell_type": "markdown",
   "metadata": {},
   "source": [
    "# 0 Begin chapter"
   ]
  },
  {
   "cell_type": "markdown",
   "metadata": {},
   "source": [
    "## 0.1. install"
   ]
  },
  {
   "cell_type": "code",
   "execution_count": 7,
   "metadata": {},
   "outputs": [
    {
     "name": "stdout",
     "output_type": "stream",
     "text": [
      "Requirement already satisfied: pandas in c:\\users\\f999145\\appdata\\local\\programs\\python\\python311\\lib\\site-packages (2.0.2)"
     ]
    },
    {
     "name": "stderr",
     "output_type": "stream",
     "text": [
      "\n",
      "[notice] A new release of pip is available: 23.2.1 -> 23.3\n",
      "[notice] To update, run: python.exe -m pip install --upgrade pip\n"
     ]
    },
    {
     "name": "stdout",
     "output_type": "stream",
     "text": [
      "\n",
      "Requirement already satisfied: pyarrow in c:\\users\\f999145\\appdata\\local\\programs\\python\\python311\\lib\\site-packages (12.0.1)\n",
      "Requirement already satisfied: nltk in c:\\users\\f999145\\appdata\\local\\programs\\python\\python311\\lib\\site-packages (3.8.1)\n",
      "Requirement already satisfied: ratelimit in c:\\users\\f999145\\appdata\\local\\programs\\python\\python311\\lib\\site-packages (2.2.1)\n",
      "Requirement already satisfied: python-dateutil>=2.8.2 in c:\\users\\f999145\\appdata\\roaming\\python\\python311\\site-packages (from pandas) (2.8.2)\n",
      "Requirement already satisfied: pytz>=2020.1 in c:\\users\\f999145\\appdata\\local\\programs\\python\\python311\\lib\\site-packages (from pandas) (2023.3)\n",
      "Requirement already satisfied: tzdata>=2022.1 in c:\\users\\f999145\\appdata\\local\\programs\\python\\python311\\lib\\site-packages (from pandas) (2023.3)\n",
      "Requirement already satisfied: numpy>=1.21.0 in c:\\users\\f999145\\appdata\\local\\programs\\python\\python311\\lib\\site-packages (from pandas) (1.24.3)\n",
      "Requirement already satisfied: click in c:\\users\\f999145\\appdata\\local\\programs\\python\\python311\\lib\\site-packages (from nltk) (8.1.3)\n",
      "Requirement already satisfied: joblib in c:\\users\\f999145\\appdata\\local\\programs\\python\\python311\\lib\\site-packages (from nltk) (1.2.0)\n",
      "Requirement already satisfied: regex>=2021.8.3 in c:\\users\\f999145\\appdata\\local\\programs\\python\\python311\\lib\\site-packages (from nltk) (2023.10.3)\n",
      "Requirement already satisfied: tqdm in c:\\users\\f999145\\appdata\\local\\programs\\python\\python311\\lib\\site-packages (from nltk) (4.65.0)\n",
      "Requirement already satisfied: six>=1.5 in c:\\users\\f999145\\appdata\\roaming\\python\\python311\\site-packages (from python-dateutil>=2.8.2->pandas) (1.16.0)\n",
      "Requirement already satisfied: colorama in c:\\users\\f999145\\appdata\\roaming\\python\\python311\\site-packages (from click->nltk) (0.4.6)\n"
     ]
    }
   ],
   "source": [
    "!python -m pip install pandas pyarrow nltk ratelimit"
   ]
  },
  {
   "cell_type": "markdown",
   "metadata": {},
   "source": [
    "## 0.2. Import"
   ]
  },
  {
   "cell_type": "code",
   "execution_count": 114,
   "metadata": {},
   "outputs": [
    {
     "name": "stdout",
     "output_type": "stream",
     "text": [
      "INFO: Pandarallel will run on 16 workers.\n",
      "INFO: Pandarallel will use standard multiprocessing data transfer (pipe) to transfer data between the main process and workers.\n",
      "\n",
      "WARNING: You are on Windows. If you detect any issue with pandarallel, be sure you checked out the Troubleshooting page:\n",
      "https://nalepae.github.io/pandarallel/troubleshooting/\n"
     ]
    }
   ],
   "source": [
    "import pandas as pd\n",
    "import numpy as np\n",
    "import sys\n",
    "import json\n",
    "import string\n",
    "import nltk\n",
    "from nltk.corpus import stopwords\n",
    "from nltk.tokenize import word_tokenize\n",
    "from sklearn.preprocessing import MinMaxScaler\n",
    "from ratelimit import limits\n",
    "from config import api_key_mapquests\n",
    "import requests\n",
    "\n",
    "from IPython.display import clear_output\n",
    "from tqdm.notebook import tqdm\n",
    "tqdm.pandas()\n",
    "from pandarallel import pandarallel\n",
    "pandarallel.initialize(progress_bar=True)"
   ]
  },
  {
   "cell_type": "code",
   "execution_count": 2,
   "metadata": {},
   "outputs": [
    {
     "data": {
      "text/plain": [
       "'3.11.6 (tags/v3.11.6:8b6ee5b, Oct  2 2023, 14:57:12) [MSC v.1935 64 bit (AMD64)]'"
      ]
     },
     "execution_count": 2,
     "metadata": {},
     "output_type": "execute_result"
    }
   ],
   "source": [
    "sys.version\n",
    "# '3.11.6 (tags/v3.11.6:8b6ee5b, Oct  2 2023, 14:57:12) [MSC v.1935 64 bit (AMD64)]'"
   ]
  },
  {
   "cell_type": "markdown",
   "metadata": {},
   "source": [
    "## 0.3. convert csv to parquet"
   ]
  },
  {
   "cell_type": "code",
   "execution_count": 115,
   "metadata": {},
   "outputs": [],
   "source": [
    "hotels = pd.read_csv('data/hotels.zip')\n",
    "# hotels.to_parquet('data/hotels_parquet.gzip', engine='pyarrow', compression='gzip')"
   ]
  },
  {
   "cell_type": "markdown",
   "metadata": {},
   "source": [
    "## 0.4. Functions"
   ]
  },
  {
   "cell_type": "code",
   "execution_count": 116,
   "metadata": {},
   "outputs": [],
   "source": [
    "def _get_col_names(df: pd.DataFrame, max_row_info: int=8) -> pd.DataFrame:\n",
    "    ostatok = df.shape[1] % max_row_info\n",
    "    col = df.shape[1] // max_row_info\n",
    "    \n",
    "    new_list = list()\n",
    "    for index in range(col if not ostatok else col + 1):\n",
    "        start = index*max_row_info\n",
    "        end = (index + 1)*max_row_info\n",
    "        new_list.append(df.columns[start:end].to_list())\n",
    "    return pd.DataFrame((new_list))"
   ]
  },
  {
   "cell_type": "code",
   "execution_count": 117,
   "metadata": {},
   "outputs": [
    {
     "data": {
      "text/html": [
       "<div>\n",
       "<style scoped>\n",
       "    .dataframe tbody tr th:only-of-type {\n",
       "        vertical-align: middle;\n",
       "    }\n",
       "\n",
       "    .dataframe tbody tr th {\n",
       "        vertical-align: top;\n",
       "    }\n",
       "\n",
       "    .dataframe thead th {\n",
       "        text-align: right;\n",
       "    }\n",
       "</style>\n",
       "<table border=\"1\" class=\"dataframe\">\n",
       "  <thead>\n",
       "    <tr style=\"text-align: right;\">\n",
       "      <th></th>\n",
       "      <th>0</th>\n",
       "      <th>1</th>\n",
       "      <th>2</th>\n",
       "    </tr>\n",
       "  </thead>\n",
       "  <tbody>\n",
       "    <tr>\n",
       "      <th>0</th>\n",
       "      <td>hotel_address</td>\n",
       "      <td>additional_number_of_scoring</td>\n",
       "      <td>review_date</td>\n",
       "    </tr>\n",
       "    <tr>\n",
       "      <th>1</th>\n",
       "      <td>average_score</td>\n",
       "      <td>hotel_name</td>\n",
       "      <td>reviewer_nationality</td>\n",
       "    </tr>\n",
       "    <tr>\n",
       "      <th>2</th>\n",
       "      <td>negative_review</td>\n",
       "      <td>review_total_negative_word_counts</td>\n",
       "      <td>total_number_of_reviews</td>\n",
       "    </tr>\n",
       "    <tr>\n",
       "      <th>3</th>\n",
       "      <td>positive_review</td>\n",
       "      <td>review_total_positive_word_counts</td>\n",
       "      <td>total_number_of_reviews_reviewer_has_given</td>\n",
       "    </tr>\n",
       "    <tr>\n",
       "      <th>4</th>\n",
       "      <td>reviewer_score</td>\n",
       "      <td>tags</td>\n",
       "      <td>days_since_review</td>\n",
       "    </tr>\n",
       "    <tr>\n",
       "      <th>5</th>\n",
       "      <td>lat</td>\n",
       "      <td>lng</td>\n",
       "      <td>None</td>\n",
       "    </tr>\n",
       "  </tbody>\n",
       "</table>\n",
       "</div>"
      ],
      "text/plain": [
       "                 0                                  1  \\\n",
       "0    hotel_address       additional_number_of_scoring   \n",
       "1    average_score                         hotel_name   \n",
       "2  negative_review  review_total_negative_word_counts   \n",
       "3  positive_review  review_total_positive_word_counts   \n",
       "4   reviewer_score                               tags   \n",
       "5              lat                                lng   \n",
       "\n",
       "                                            2  \n",
       "0                                 review_date  \n",
       "1                        reviewer_nationality  \n",
       "2                     total_number_of_reviews  \n",
       "3  total_number_of_reviews_reviewer_has_given  \n",
       "4                           days_since_review  \n",
       "5                                        None  "
      ]
     },
     "execution_count": 117,
     "metadata": {},
     "output_type": "execute_result"
    }
   ],
   "source": [
    "# hotels = pd.read_parquet('data/hotels_parquet.gzip')\n",
    "_get_col_names(hotels,3)"
   ]
  },
  {
   "cell_type": "code",
   "execution_count": 118,
   "metadata": {},
   "outputs": [],
   "source": [
    "hotels = hotels.convert_dtypes()"
   ]
  },
  {
   "cell_type": "code",
   "execution_count": 93,
   "metadata": {},
   "outputs": [
    {
     "name": "stdout",
     "output_type": "stream",
     "text": [
      "<class 'pandas.core.frame.DataFrame'>\n",
      "RangeIndex: 386803 entries, 0 to 386802\n",
      "Data columns (total 17 columns):\n",
      " #   Column                                      Non-Null Count   Dtype  \n",
      "---  ------                                      --------------   -----  \n",
      " 0   hotel_address                               386803 non-null  string \n",
      " 1   additional_number_of_scoring                386803 non-null  Int64  \n",
      " 2   review_date                                 386803 non-null  string \n",
      " 3   average_score                               386803 non-null  Float64\n",
      " 4   hotel_name                                  386803 non-null  string \n",
      " 5   reviewer_nationality                        386803 non-null  string \n",
      " 6   negative_review                             386803 non-null  string \n",
      " 7   review_total_negative_word_counts           386803 non-null  Int64  \n",
      " 8   total_number_of_reviews                     386803 non-null  Int64  \n",
      " 9   positive_review                             386803 non-null  string \n",
      " 10  review_total_positive_word_counts           386803 non-null  Int64  \n",
      " 11  total_number_of_reviews_reviewer_has_given  386803 non-null  Int64  \n",
      " 12  reviewer_score                              386803 non-null  Float64\n",
      " 13  tags                                        386803 non-null  string \n",
      " 14  days_since_review                           386803 non-null  string \n",
      " 15  lat                                         384355 non-null  Float64\n",
      " 16  lng                                         384355 non-null  Float64\n",
      "dtypes: Float64(4), Int64(5), string(8)\n",
      "memory usage: 53.5 MB\n"
     ]
    }
   ],
   "source": [
    "hotels.info()"
   ]
  },
  {
   "attachments": {},
   "cell_type": "markdown",
   "metadata": {},
   "source": [
    "---\n",
    "- hotel_address — адрес отеля;\n",
    "- review_date — дата, когда рецензент разместил соответствующий отзыв;\n",
    "- average_score — средний балл отеля, рассчитанный на основе последнего комментария за последний год;\n",
    "- hotel_name — название отеля;\n",
    "- reviewer_nationality — страна рецензента;\n",
    "- negative_review — отрицательный отзыв, который рецензент дал отелю;\n",
    "- review_total_negative_word_counts — общее количество слов в отрицательном отзыв;\n",
    "- positive_review — положительный отзыв, который рецензент дал отелю;\n",
    "- review_total_positive_word_counts — общее количество слов в положительном отзыве.\n",
    "- reviewer_score — оценка, которую рецензент поставил отелю на основе своего опыта;\n",
    "- total_number_of_reviews_reviewer_has_given — количество отзывов, которые рецензенты дали в прошлом;\n",
    "- total_number_of_reviews — общее количество действительных отзывов об отеле;\n",
    "- tags — теги, которые рецензент дал отелю;\n",
    "- days_since_review — количество дней между датой проверки и датой очистки;\n",
    "- additional_number_of_scoring — есть также некоторые гости, которые просто поставили оценку сервису, но не оставили отзыв. Это число указывает, сколько там действительных оценок без проверки.\n",
    "- lat — географическая широта отеля;\n",
    "- lng — географическая долгота отеля.\n",
    "---"
   ]
  },
  {
   "attachments": {},
   "cell_type": "markdown",
   "metadata": {},
   "source": [
    "# 1 Исследование данных"
   ]
  },
  {
   "cell_type": "markdown",
   "metadata": {},
   "source": [
    "## 1.1. Отделение Категориальных признаков"
   ]
  },
  {
   "cell_type": "code",
   "execution_count": 119,
   "metadata": {},
   "outputs": [
    {
     "name": "stdout",
     "output_type": "stream",
     "text": [
      "cat_cols: 15; other_cols: 2\n"
     ]
    }
   ],
   "source": [
    "resolution = hotels.shape[0]\n",
    "tmp_cols = (\n",
    "            hotels\n",
    "            .nunique()\n",
    "            .sort_values(ascending=False)\n",
    "            .to_frame(name='count')\n",
    "            .assign(frec=lambda x: round(100*x['count']/resolution).astype('UInt8'))\n",
    "            )\n",
    "\n",
    "cat_cols = (\n",
    "            tmp_cols\n",
    "            .query('frec < 20')\n",
    "            .index\n",
    "            .to_list()\n",
    "            )\n",
    "\n",
    "other_cols = (\n",
    "                tmp_cols\n",
    "                .query('frec >= 20')\n",
    "                .index\n",
    "                .to_list()\n",
    "                )\n",
    "\n",
    "print(f'cat_cols: {len(cat_cols)}; other_cols: {len(other_cols)}')\n"
   ]
  },
  {
   "cell_type": "markdown",
   "metadata": {},
   "source": [
    "## 1.2. Преобразование Категориальных признаков"
   ]
  },
  {
   "cell_type": "markdown",
   "metadata": {},
   "source": [
    "### 1.2.1. Преобразование типов Object"
   ]
  },
  {
   "cell_type": "code",
   "execution_count": 120,
   "metadata": {},
   "outputs": [
    {
     "data": {
      "text/html": [
       "<div>\n",
       "<style scoped>\n",
       "    .dataframe tbody tr th:only-of-type {\n",
       "        vertical-align: middle;\n",
       "    }\n",
       "\n",
       "    .dataframe tbody tr th {\n",
       "        vertical-align: top;\n",
       "    }\n",
       "\n",
       "    .dataframe thead th {\n",
       "        text-align: right;\n",
       "    }\n",
       "</style>\n",
       "<table border=\"1\" class=\"dataframe\">\n",
       "  <thead>\n",
       "    <tr style=\"text-align: right;\">\n",
       "      <th></th>\n",
       "      <th>tags</th>\n",
       "      <th>hotel_address</th>\n",
       "      <th>hotel_name</th>\n",
       "      <th>days_since_review</th>\n",
       "      <th>review_date</th>\n",
       "      <th>reviewer_nationality</th>\n",
       "    </tr>\n",
       "  </thead>\n",
       "  <tbody>\n",
       "    <tr>\n",
       "      <th>0</th>\n",
       "      <td>[' Leisure trip ', ' Couple ', ' Studio Suite ...</td>\n",
       "      <td>Stratton Street Mayfair Westminster Borough Lo...</td>\n",
       "      <td>The May Fair Hotel</td>\n",
       "      <td>531 day</td>\n",
       "      <td>2/19/2016</td>\n",
       "      <td>United Kingdom</td>\n",
       "    </tr>\n",
       "    <tr>\n",
       "      <th>1</th>\n",
       "      <td>[' Business trip ', ' Couple ', ' Standard Dou...</td>\n",
       "      <td>130 134 Southampton Row Camden London WC1B 5AF...</td>\n",
       "      <td>Mercure London Bloomsbury Hotel</td>\n",
       "      <td>203 day</td>\n",
       "      <td>1/12/2017</td>\n",
       "      <td>United Kingdom</td>\n",
       "    </tr>\n",
       "    <tr>\n",
       "      <th>2</th>\n",
       "      <td>[' Leisure trip ', ' Solo traveler ', ' Modern...</td>\n",
       "      <td>151 bis Rue de Rennes 6th arr 75006 Paris France</td>\n",
       "      <td>Legend Saint Germain by Elegancia</td>\n",
       "      <td>289 day</td>\n",
       "      <td>10/18/2016</td>\n",
       "      <td>China</td>\n",
       "    </tr>\n",
       "    <tr>\n",
       "      <th>3</th>\n",
       "      <td>[' Leisure trip ', ' Solo traveler ', ' Standa...</td>\n",
       "      <td>216 Avenue Jean Jaures 19th arr 75019 Paris Fr...</td>\n",
       "      <td>Mercure Paris 19 Philharmonie La Villette</td>\n",
       "      <td>681 day</td>\n",
       "      <td>9/22/2015</td>\n",
       "      <td>United Kingdom</td>\n",
       "    </tr>\n",
       "    <tr>\n",
       "      <th>4</th>\n",
       "      <td>[' Business trip ', ' Couple ', ' Standard Dou...</td>\n",
       "      <td>Molenwerf 1 1014 AG Amsterdam Netherlands</td>\n",
       "      <td>Golden Tulip Amsterdam West</td>\n",
       "      <td>516 day</td>\n",
       "      <td>3/5/2016</td>\n",
       "      <td>Poland</td>\n",
       "    </tr>\n",
       "  </tbody>\n",
       "</table>\n",
       "</div>"
      ],
      "text/plain": [
       "                                                tags  \\\n",
       "0  [' Leisure trip ', ' Couple ', ' Studio Suite ...   \n",
       "1  [' Business trip ', ' Couple ', ' Standard Dou...   \n",
       "2  [' Leisure trip ', ' Solo traveler ', ' Modern...   \n",
       "3  [' Leisure trip ', ' Solo traveler ', ' Standa...   \n",
       "4  [' Business trip ', ' Couple ', ' Standard Dou...   \n",
       "\n",
       "                                       hotel_address  \\\n",
       "0  Stratton Street Mayfair Westminster Borough Lo...   \n",
       "1  130 134 Southampton Row Camden London WC1B 5AF...   \n",
       "2   151 bis Rue de Rennes 6th arr 75006 Paris France   \n",
       "3  216 Avenue Jean Jaures 19th arr 75019 Paris Fr...   \n",
       "4          Molenwerf 1 1014 AG Amsterdam Netherlands   \n",
       "\n",
       "                                  hotel_name days_since_review review_date  \\\n",
       "0                         The May Fair Hotel           531 day   2/19/2016   \n",
       "1            Mercure London Bloomsbury Hotel           203 day   1/12/2017   \n",
       "2          Legend Saint Germain by Elegancia           289 day  10/18/2016   \n",
       "3  Mercure Paris 19 Philharmonie La Villette           681 day   9/22/2015   \n",
       "4                Golden Tulip Amsterdam West           516 day    3/5/2016   \n",
       "\n",
       "  reviewer_nationality  \n",
       "0      United Kingdom   \n",
       "1      United Kingdom   \n",
       "2               China   \n",
       "3      United Kingdom   \n",
       "4              Poland   "
      ]
     },
     "execution_count": 120,
     "metadata": {},
     "output_type": "execute_result"
    }
   ],
   "source": [
    "object_cols = hotels[cat_cols].select_dtypes(include='string').columns.to_list()\n",
    "# other_cat_cols = [x for x in cat_cols if x not in object_cols]\n",
    "other_cat_cols = list(filter(lambda x: x not in object_cols, cat_cols))\n",
    "\n",
    "hotels[object_cols].head()"
   ]
  },
  {
   "cell_type": "code",
   "execution_count": 121,
   "metadata": {},
   "outputs": [],
   "source": [
    "# Преобразование столбца \"tags\"\n",
    "hotels['tags'] = hotels['tags'].str.replace('\\'','\\\"' ).apply(lambda x: json.loads(x))\n",
    "\n",
    "# Преобразование признака \"days_since_review\"\n",
    "hotels['days_since_review'] = hotels['days_since_review'].str.extract('(\\d+) day', expand=False).astype('UInt16')\n",
    "\n",
    "# Преобразование признака \"review_date\"\n",
    "hotels['review_date'] = pd.to_datetime(hotels['review_date'], format='%d/%M/%Y')\n",
    "\n",
    "# Преобразование признака  \"reviewer_nationality\"\n",
    "hotels['hotel_name'] = hotels['hotel_name'].str.strip().replace('', np.nan)\n",
    "category_order_list = sorted([x for x in hotels['hotel_name'].unique() if not pd.isnull(x)])\n",
    "hotels['hotel_name'] = hotels['hotel_name'].astype('category').cat.set_categories(category_order_list, ordered=True)\n",
    "\n",
    "# Преобразование признака  \"reviewer_nationality\"\n",
    "hotels['reviewer_nationality'] = hotels['reviewer_nationality'].str.strip().replace('', np.nan)\n",
    "category_order_list = sorted([x for x in hotels['reviewer_nationality'].unique() if not pd.isnull(x)])\n",
    "hotels['reviewer_nationality'] = hotels['reviewer_nationality'].astype('category').cat.set_categories(category_order_list, ordered=True)\n",
    "\n",
    "# Преобразование признака \"hotel_address\"\n",
    "hotels['hotel_address'] = hotels['hotel_address'].astype('string')"
   ]
  },
  {
   "cell_type": "markdown",
   "metadata": {},
   "source": [
    "### 1.2.2. Преобразование типов других типов"
   ]
  },
  {
   "cell_type": "code",
   "execution_count": 97,
   "metadata": {},
   "outputs": [
    {
     "data": {
      "text/html": [
       "<div>\n",
       "<style scoped>\n",
       "    .dataframe tbody tr th:only-of-type {\n",
       "        vertical-align: middle;\n",
       "    }\n",
       "\n",
       "    .dataframe tbody tr th {\n",
       "        vertical-align: top;\n",
       "    }\n",
       "\n",
       "    .dataframe thead th {\n",
       "        text-align: right;\n",
       "    }\n",
       "</style>\n",
       "<table border=\"1\" class=\"dataframe\">\n",
       "  <thead>\n",
       "    <tr style=\"text-align: right;\">\n",
       "      <th></th>\n",
       "      <th>lat</th>\n",
       "      <th>lng</th>\n",
       "      <th>total_number_of_reviews</th>\n",
       "      <th>additional_number_of_scoring</th>\n",
       "      <th>review_total_negative_word_counts</th>\n",
       "      <th>review_total_positive_word_counts</th>\n",
       "      <th>total_number_of_reviews_reviewer_has_given</th>\n",
       "      <th>reviewer_score</th>\n",
       "      <th>average_score</th>\n",
       "    </tr>\n",
       "  </thead>\n",
       "  <tbody>\n",
       "    <tr>\n",
       "      <th>0</th>\n",
       "      <td>51.507894</td>\n",
       "      <td>-0.143671</td>\n",
       "      <td>1994</td>\n",
       "      <td>581</td>\n",
       "      <td>3</td>\n",
       "      <td>4</td>\n",
       "      <td>7</td>\n",
       "      <td>10.0</td>\n",
       "      <td>8.4</td>\n",
       "    </tr>\n",
       "    <tr>\n",
       "      <th>1</th>\n",
       "      <td>51.521009</td>\n",
       "      <td>-0.123097</td>\n",
       "      <td>1361</td>\n",
       "      <td>299</td>\n",
       "      <td>3</td>\n",
       "      <td>2</td>\n",
       "      <td>14</td>\n",
       "      <td>6.3</td>\n",
       "      <td>8.3</td>\n",
       "    </tr>\n",
       "    <tr>\n",
       "      <th>2</th>\n",
       "      <td>48.845377</td>\n",
       "      <td>2.325643</td>\n",
       "      <td>406</td>\n",
       "      <td>32</td>\n",
       "      <td>6</td>\n",
       "      <td>0</td>\n",
       "      <td>14</td>\n",
       "      <td>7.5</td>\n",
       "      <td>8.9</td>\n",
       "    </tr>\n",
       "    <tr>\n",
       "      <th>3</th>\n",
       "      <td>48.888697</td>\n",
       "      <td>2.39454</td>\n",
       "      <td>607</td>\n",
       "      <td>34</td>\n",
       "      <td>0</td>\n",
       "      <td>11</td>\n",
       "      <td>8</td>\n",
       "      <td>10.0</td>\n",
       "      <td>7.5</td>\n",
       "    </tr>\n",
       "    <tr>\n",
       "      <th>4</th>\n",
       "      <td>52.385601</td>\n",
       "      <td>4.84706</td>\n",
       "      <td>7586</td>\n",
       "      <td>914</td>\n",
       "      <td>4</td>\n",
       "      <td>20</td>\n",
       "      <td>10</td>\n",
       "      <td>9.6</td>\n",
       "      <td>8.5</td>\n",
       "    </tr>\n",
       "  </tbody>\n",
       "</table>\n",
       "</div>"
      ],
      "text/plain": [
       "         lat       lng  total_number_of_reviews  additional_number_of_scoring  \\\n",
       "0  51.507894 -0.143671                     1994                           581   \n",
       "1  51.521009 -0.123097                     1361                           299   \n",
       "2  48.845377  2.325643                      406                            32   \n",
       "3  48.888697   2.39454                      607                            34   \n",
       "4  52.385601   4.84706                     7586                           914   \n",
       "\n",
       "   review_total_negative_word_counts  review_total_positive_word_counts  \\\n",
       "0                                  3                                  4   \n",
       "1                                  3                                  2   \n",
       "2                                  6                                  0   \n",
       "3                                  0                                 11   \n",
       "4                                  4                                 20   \n",
       "\n",
       "   total_number_of_reviews_reviewer_has_given  reviewer_score  average_score  \n",
       "0                                           7            10.0            8.4  \n",
       "1                                          14             6.3            8.3  \n",
       "2                                          14             7.5            8.9  \n",
       "3                                           8            10.0            7.5  \n",
       "4                                          10             9.6            8.5  "
      ]
     },
     "execution_count": 97,
     "metadata": {},
     "output_type": "execute_result"
    }
   ],
   "source": [
    "hotels[other_cat_cols].head()"
   ]
  },
  {
   "cell_type": "code",
   "execution_count": 122,
   "metadata": {},
   "outputs": [],
   "source": [
    "hotels['lat'] = hotels['lat'].astype('Float32')\n",
    "hotels['lng'] = hotels['lng'].astype('Float32')\n",
    "hotels['total_number_of_reviews'] = hotels['total_number_of_reviews'].astype('UInt16')\n",
    "hotels['additional_number_of_scoring'] = hotels['additional_number_of_scoring'].astype('UInt16')\n",
    "hotels['review_total_negative_word_counts'] = hotels['review_total_negative_word_counts'].astype('UInt16')\n",
    "hotels['review_total_positive_word_counts'] = hotels['review_total_positive_word_counts'].astype('UInt16')\n",
    "hotels['total_number_of_reviews_reviewer_has_given'] = hotels['total_number_of_reviews_reviewer_has_given'].astype('UInt16')\n",
    "hotels['reviewer_score'] = hotels['reviewer_score'].astype('Float32')\n",
    "hotels['average_score'] = hotels['average_score'].astype('Float32')"
   ]
  },
  {
   "cell_type": "code",
   "execution_count": 123,
   "metadata": {},
   "outputs": [
    {
     "data": {
      "text/html": [
       "<div>\n",
       "<style scoped>\n",
       "    .dataframe tbody tr th:only-of-type {\n",
       "        vertical-align: middle;\n",
       "    }\n",
       "\n",
       "    .dataframe tbody tr th {\n",
       "        vertical-align: top;\n",
       "    }\n",
       "\n",
       "    .dataframe thead th {\n",
       "        text-align: right;\n",
       "    }\n",
       "</style>\n",
       "<table border=\"1\" class=\"dataframe\">\n",
       "  <thead>\n",
       "    <tr style=\"text-align: right;\">\n",
       "      <th></th>\n",
       "      <th>lat</th>\n",
       "      <th>lng</th>\n",
       "      <th>total_number_of_reviews</th>\n",
       "      <th>additional_number_of_scoring</th>\n",
       "      <th>review_total_negative_word_counts</th>\n",
       "      <th>review_total_positive_word_counts</th>\n",
       "      <th>total_number_of_reviews_reviewer_has_given</th>\n",
       "      <th>reviewer_score</th>\n",
       "      <th>average_score</th>\n",
       "    </tr>\n",
       "  </thead>\n",
       "  <tbody>\n",
       "    <tr>\n",
       "      <th>0</th>\n",
       "      <td>51.507893</td>\n",
       "      <td>-0.143671</td>\n",
       "      <td>1994</td>\n",
       "      <td>581</td>\n",
       "      <td>3</td>\n",
       "      <td>4</td>\n",
       "      <td>7</td>\n",
       "      <td>10.0</td>\n",
       "      <td>8.4</td>\n",
       "    </tr>\n",
       "    <tr>\n",
       "      <th>1</th>\n",
       "      <td>51.521008</td>\n",
       "      <td>-0.123097</td>\n",
       "      <td>1361</td>\n",
       "      <td>299</td>\n",
       "      <td>3</td>\n",
       "      <td>2</td>\n",
       "      <td>14</td>\n",
       "      <td>6.3</td>\n",
       "      <td>8.3</td>\n",
       "    </tr>\n",
       "    <tr>\n",
       "      <th>2</th>\n",
       "      <td>48.845379</td>\n",
       "      <td>2.325643</td>\n",
       "      <td>406</td>\n",
       "      <td>32</td>\n",
       "      <td>6</td>\n",
       "      <td>0</td>\n",
       "      <td>14</td>\n",
       "      <td>7.5</td>\n",
       "      <td>8.9</td>\n",
       "    </tr>\n",
       "    <tr>\n",
       "      <th>3</th>\n",
       "      <td>48.888699</td>\n",
       "      <td>2.39454</td>\n",
       "      <td>607</td>\n",
       "      <td>34</td>\n",
       "      <td>0</td>\n",
       "      <td>11</td>\n",
       "      <td>8</td>\n",
       "      <td>10.0</td>\n",
       "      <td>7.5</td>\n",
       "    </tr>\n",
       "    <tr>\n",
       "      <th>4</th>\n",
       "      <td>52.385601</td>\n",
       "      <td>4.84706</td>\n",
       "      <td>7586</td>\n",
       "      <td>914</td>\n",
       "      <td>4</td>\n",
       "      <td>20</td>\n",
       "      <td>10</td>\n",
       "      <td>9.6</td>\n",
       "      <td>8.5</td>\n",
       "    </tr>\n",
       "  </tbody>\n",
       "</table>\n",
       "</div>"
      ],
      "text/plain": [
       "         lat       lng  total_number_of_reviews  additional_number_of_scoring  \\\n",
       "0  51.507893 -0.143671                     1994                           581   \n",
       "1  51.521008 -0.123097                     1361                           299   \n",
       "2  48.845379  2.325643                      406                            32   \n",
       "3  48.888699   2.39454                      607                            34   \n",
       "4  52.385601   4.84706                     7586                           914   \n",
       "\n",
       "   review_total_negative_word_counts  review_total_positive_word_counts  \\\n",
       "0                                  3                                  4   \n",
       "1                                  3                                  2   \n",
       "2                                  6                                  0   \n",
       "3                                  0                                 11   \n",
       "4                                  4                                 20   \n",
       "\n",
       "   total_number_of_reviews_reviewer_has_given  reviewer_score  average_score  \n",
       "0                                           7            10.0            8.4  \n",
       "1                                          14             6.3            8.3  \n",
       "2                                          14             7.5            8.9  \n",
       "3                                           8            10.0            7.5  \n",
       "4                                          10             9.6            8.5  "
      ]
     },
     "execution_count": 123,
     "metadata": {},
     "output_type": "execute_result"
    }
   ],
   "source": [
    "hotels[other_cat_cols].head()"
   ]
  },
  {
   "cell_type": "code",
   "execution_count": 124,
   "metadata": {},
   "outputs": [],
   "source": [
    "hotels['negative_review'] = hotels['negative_review'].astype('string')\n",
    "hotels['positive_review'] = hotels['positive_review'].astype('string')"
   ]
  },
  {
   "cell_type": "markdown",
   "metadata": {},
   "source": [
    "### 1.2.3. Работа с признаком \"Tags\""
   ]
  },
  {
   "cell_type": "code",
   "execution_count": null,
   "metadata": {},
   "outputs": [],
   "source": [
    "# a = (\n",
    "#         hotels['tags']\n",
    "#         .explode()\n",
    "#         .str.strip()\n",
    "#         .value_counts()\n",
    "#         .to_frame()\n",
    "#         )\n",
    "# tags_unique_list = dict(zip(b:=(\n",
    "#                                 pd.DataFrame(\n",
    "#                                                 zip(\n",
    "#                                                         a.index,\n",
    "#                                                         scaler.fit_transform(a.values).flatten()\n",
    "#                                                         ),\n",
    "#                                                 columns=('tags', 'proportion')\n",
    "#                                             )\n",
    "#                                 .query('proportion > 0.2')['tags']\n",
    "#                                 .values\n",
    "#                                 ),\n",
    "#                                 [False]*len(b)\n",
    "#                             ))"
   ]
  },
  {
   "cell_type": "code",
   "execution_count": 125,
   "metadata": {},
   "outputs": [
    {
     "data": {
      "text/plain": [
       "(386803, 27)"
      ]
     },
     "execution_count": 125,
     "metadata": {},
     "output_type": "execute_result"
    }
   ],
   "source": [
    "tags_unique_list = dict(zip(a:=(\n",
    "                            hotels['tags']\n",
    "                            .explode()\n",
    "                            .str.strip()\n",
    "                            # .unique()\n",
    "                            .value_counts()\n",
    "                            .to_frame()\n",
    "                            .assign(count=lambda x: x['count']/hotels.shape[0])\n",
    "                            .query('count > 0.1')\n",
    "                            .index\n",
    "                            ),\n",
    "                            [False]*len(a)\n",
    "                            ))\n",
    "\n",
    "\n",
    " \n",
    "def get_dummis_table(row: pd.Series, tags_unique_list: dict):\n",
    "    import pandas as pd\n",
    "    tmp_dict =tags_unique_list.copy()\n",
    "    for item in list(map(lambda x: x.strip(), row)):\n",
    "        if item in tmp_dict.keys():\n",
    "            tmp_dict[item] = True\n",
    "    return pd.Series(tmp_dict)\n",
    "\n",
    "\n",
    "hotels = pd.concat((hotels, hotels['tags'].parallel_apply(get_dummis_table, args=(tags_unique_list,))), axis=1)\n",
    "clear_output()\n",
    "hotels.shape\n"
   ]
  },
  {
   "cell_type": "markdown",
   "metadata": {},
   "source": [
    "### 1.2.4. Работа с отзывами."
   ]
  },
  {
   "cell_type": "code",
   "execution_count": 126,
   "metadata": {},
   "outputs": [],
   "source": [
    "nltk.download('stopwords')\n",
    "nltk.download('punkt')\n",
    "\n",
    "# Удаление пунктуации\n",
    "def remove_punctuation(text: str):\n",
    "    import string\n",
    "    translator = str.maketrans('', '', string.punctuation)\n",
    "    return text.translate(translator)\n",
    "\n",
    "# Убираем стом слова\n",
    "def remove_stopwords(text: str):\n",
    "    from nltk.corpus import stopwords\n",
    "    from nltk.tokenize import word_tokenize\n",
    "    \n",
    "    text = text.lower()\n",
    "    stop_words = set(stopwords.words('english'))\n",
    "    tokens = word_tokenize(text)\n",
    "    filtered_text = [word for word in tokens if word not in stop_words]\n",
    "    return ' '.join(filtered_text)\n",
    "\n",
    "# Нормализуем окончания\n",
    "def normalize_endings(text: str):\n",
    "    from nltk.tokenize import word_tokenize\n",
    "    from nltk.stem import SnowballStemmer\n",
    "    \n",
    "    stemmer = SnowballStemmer('english')\n",
    "    tokens = word_tokenize(text)\n",
    "    normalized_text = [stemmer.stem(word) for word in tokens]\n",
    "    return ' '.join(normalized_text)\n",
    "\n",
    "\n",
    "hotels['negative_review'] = hotels['negative_review'].progress_apply(remove_punctuation)\n",
    "clear_output()\n",
    "\n",
    "hotels['negative_review'] = hotels['negative_review'].parallel_apply(remove_stopwords)\n",
    "clear_output()\n",
    "\n",
    "hotels['negative_review'] = hotels['negative_review'].parallel_apply(normalize_endings)\n",
    "clear_output()\n",
    "\n",
    "hotels['positive_review'] = hotels['positive_review'].progress_apply(remove_punctuation)\n",
    "clear_output()\n",
    "\n",
    "hotels['positive_review'] = hotels['positive_review'].parallel_apply(remove_stopwords)\n",
    "clear_output()\n",
    "\n",
    "hotels['positive_review'] = hotels['positive_review'].parallel_apply(normalize_endings)\n",
    "clear_output()\n",
    "\n",
    "hotels['positive_review'] = hotels['positive_review'].str.split()\n",
    "hotels['negative_review'] = hotels['negative_review'].str.split()"
   ]
  },
  {
   "cell_type": "code",
   "execution_count": 127,
   "metadata": {},
   "outputs": [
    {
     "data": {
      "text/plain": [
       "(386803, 45)"
      ]
     },
     "execution_count": 127,
     "metadata": {},
     "output_type": "execute_result"
    }
   ],
   "source": [
    "review_unique_dict = dict(zip(a:=(\n",
    "                                pd.concat((hotels['positive_review'], hotels['negative_review']), axis=0, ignore_index=True)\n",
    "                                .explode(ignore_index=True)\n",
    "                                # .unique()\n",
    "                                .value_counts()\n",
    "                                .to_frame()\n",
    "                                .assign(count=lambda x: x['count']/hotels.shape[0])\n",
    "                                .query('count > 0.1')\n",
    "                                .index\n",
    "                                ),\n",
    "                              [False]*len(a)\n",
    "                              ))\n",
    "\n",
    "\n",
    "\n",
    "def get_dummis_review_table(row: pd.Series, review_unique_dict: dict):\n",
    "    import pandas as pd\n",
    "    tmp_dict = review_unique_dict.copy()\n",
    "    for item in row['positive_review']:\n",
    "        if item in tmp_dict.keys():\n",
    "            tmp_dict[item] = True\n",
    "    for item in row['positive_review']:\n",
    "        if item in tmp_dict.keys():\n",
    "            tmp_dict[item] = True\n",
    "    return pd.Series(tmp_dict)\n",
    "\n",
    "hotels = pd.concat((hotels, hotels.parallel_apply(get_dummis_review_table, args=(review_unique_dict,), axis=1)), axis=1)\n",
    "clear_output()\n",
    "hotels.shape"
   ]
  },
  {
   "cell_type": "code",
   "execution_count": 128,
   "metadata": {},
   "outputs": [],
   "source": [
    "hotels = (\n",
    "            hotels\n",
    "            .drop(columns=(\n",
    "                            (hotels.iloc[:,17:].sum(axis=0)/hotels.shape[0])\n",
    "                            .to_frame(name='proportion')\n",
    "                            .query('proportion < 0.1')\n",
    "                            .index\n",
    "                        ))\n",
    "            .drop(columns=['negative_review', 'positive_review', 'tags'])\n",
    "        )"
   ]
  },
  {
   "cell_type": "markdown",
   "metadata": {},
   "source": [
    "### 1.2.5. Работа с адресами."
   ]
  },
  {
   "cell_type": "code",
   "execution_count": 129,
   "metadata": {},
   "outputs": [],
   "source": [
    "def _get_json_address(col_value: str, api_key: str) -> str:\n",
    "    import requests\n",
    "    import numpy as np\n",
    "    import pandas as pd\n",
    "    url = 'https://www.mapquestapi.com/geocoding/v1/address'\n",
    "    params = {\n",
    "        'key': api_key,\n",
    "        'location': col_value,\n",
    "    }\n",
    "    \n",
    "    cols = ['country', 'city', 'Neighborhood']\n",
    "    \n",
    "    \n",
    "    try:\n",
    "        res = requests.get(url=url, params=params)\n",
    "    except TimeoutError:\n",
    "        return pd.Series([np.nan]*len(cols), index=cols)\n",
    "    except requests.ConnectTimeout:\n",
    "        return pd.Series([np.nan]*len(cols), index=cols)\n",
    "    \n",
    "    tmp = res.json()\n",
    "    \n",
    "    country = tmp.get('results', [{}])[0].get('locations', [{}])[0].get('adminArea1')\n",
    "    # state = tmp.get('results', [{}])[0].get('locations', [{}])[0].get('adminArea3')\n",
    "    # county = tmp.get('results', [{}])[0].get('locations', [{}])[0].get('adminArea4')\n",
    "    city = tmp.get('results', [{}])[0].get('locations', [{}])[0].get('adminArea5')\n",
    "    Neighborhood = tmp.get('results', [{}])[0].get('locations', [{}])[0].get('adminArea6')\n",
    "    # street = tmp.get('results', [{}])[0].get('locations', [{}])[0].get('street')\n",
    "    \n",
    "    return pd.Series([country, city, Neighborhood], index=cols)"
   ]
  },
  {
   "cell_type": "code",
   "execution_count": 130,
   "metadata": {},
   "outputs": [
    {
     "data": {
      "text/plain": [
       "address         1493\n",
       "country            8\n",
       "city              14\n",
       "Neighborhood     219\n",
       "dtype: int64"
      ]
     },
     "execution_count": 130,
     "metadata": {},
     "output_type": "execute_result"
    }
   ],
   "source": [
    "tmp = pd.DataFrame(hotels['hotel_address'].unique(), columns=['address'])\n",
    "address_guide = pd.concat((tmp, tmp['address'].parallel_apply(_get_json_address, args=(api_key_mapquests,))), axis=1)\n",
    "clear_output()\n",
    "# Преобразование признаков\n",
    "for col in address_guide.columns[1:]:\n",
    "    category_order_list = sorted([x for x in address_guide[col].unique() if not pd.isnull(x)])\n",
    "    address_guide[col] = address_guide[col].astype('category').cat.set_categories(category_order_list, ordered=True)\n",
    "address_guide.nunique()"
   ]
  },
  {
   "cell_type": "code",
   "execution_count": 191,
   "metadata": {},
   "outputs": [],
   "source": [
    "address_guide.to_parquet('data/address_guide_parquet.gzip', engine='pyarrow', compression='gzip')"
   ]
  },
  {
   "cell_type": "code",
   "execution_count": 131,
   "metadata": {},
   "outputs": [],
   "source": [
    "hotels = hotels.merge(right=address_guide, how='left', left_on='hotel_address', right_on='address').drop(columns=['hotel_address', 'address'])"
   ]
  },
  {
   "cell_type": "code",
   "execution_count": 132,
   "metadata": {},
   "outputs": [],
   "source": [
    "hotels.to_parquet('data/hotels_v2_parquet.gzip', engine='pyarrow', compression='gzip')"
   ]
  },
  {
   "cell_type": "markdown",
   "metadata": {},
   "source": [
    "# 2. Подготовка данных для модели"
   ]
  },
  {
   "cell_type": "code",
   "execution_count": 182,
   "metadata": {},
   "outputs": [],
   "source": [
    "hotels = pd.read_parquet('data/hotels_v2_parquet.gzip')"
   ]
  },
  {
   "cell_type": "code",
   "execution_count": 183,
   "metadata": {},
   "outputs": [],
   "source": [
    "hotels['review_date_from_2015-01-01'] = (hotels['review_date'] - pd.to_datetime('2015-01-01')).dt.days.astype('UInt16')\n",
    "hotels = hotels.drop(columns='review_date')"
   ]
  },
  {
   "cell_type": "code",
   "execution_count": 184,
   "metadata": {},
   "outputs": [],
   "source": [
    "for col in hotels.select_dtypes('category').columns:\n",
    "    hotels[col] = (hotels[col].cat.codes + 1).fillna(0)\n",
    "\n",
    "hotels = hotels.fillna(0)\n",
    "    "
   ]
  },
  {
   "cell_type": "code",
   "execution_count": 185,
   "metadata": {},
   "outputs": [],
   "source": [
    "# Разбиваем датафрейм на части, необходимые для обучения и тестирования модели  \n",
    "# Х - данные с информацией об отелях, у - целевая переменная (рейтинги отелей)  \n",
    "X = hotels.drop(['reviewer_score'], axis = 1)  \n",
    "y = hotels['reviewer_score'] "
   ]
  },
  {
   "cell_type": "code",
   "execution_count": 186,
   "metadata": {},
   "outputs": [],
   "source": [
    "# Загружаем специальный инструмент для разбивки:  \n",
    "from sklearn.model_selection import train_test_split  "
   ]
  },
  {
   "cell_type": "code",
   "execution_count": 187,
   "metadata": {},
   "outputs": [],
   "source": [
    "# Наборы данных с меткой \"train\" будут использоваться для обучения модели, \"test\" - для тестирования.  \n",
    "# Для тестирования мы будем использовать 25% от исходного датасета.  \n",
    "X_train, X_test, y_train, y_test = train_test_split(X, y, test_size=0.25, random_state=42)"
   ]
  },
  {
   "cell_type": "code",
   "execution_count": 188,
   "metadata": {},
   "outputs": [],
   "source": [
    "# Импортируем необходимые библиотеки:  \n",
    "from sklearn.ensemble import RandomForestRegressor # инструмент для создания и обучения модели  \n",
    "from sklearn import metrics # инструменты для оценки точности модели  \n",
    "  \n",
    "# Создаём модель  \n",
    "regr = RandomForestRegressor(n_estimators=100)  \n",
    "      \n",
    "# Обучаем модель на тестовом наборе данных  \n",
    "regr.fit(X_train, y_train)  \n",
    "      \n",
    "# Используем обученную модель для предсказания рейтинга отелей в тестовой выборке.  \n",
    "# Предсказанные значения записываем в переменную y_pred  \n",
    "y_pred = regr.predict(X_test)  \n"
   ]
  },
  {
   "cell_type": "code",
   "execution_count": 189,
   "metadata": {},
   "outputs": [
    {
     "name": "stdout",
     "output_type": "stream",
     "text": [
      "MAPE: 0.1320041596970499\n"
     ]
    }
   ],
   "source": [
    "# Сравниваем предсказанные значения (y_pred) с реальными (y_test), и смотрим насколько они отличаются  \n",
    "# Метрика называется Mean Absolute Percentage Error (MAPE) и показывает среднюю абсолютную процентную ошибку предсказанных значений от фактических.  \n",
    "print('MAPE:', metrics.mean_absolute_percentage_error(y_test, y_pred))"
   ]
  },
  {
   "cell_type": "code",
   "execution_count": null,
   "metadata": {},
   "outputs": [],
   "source": []
  }
 ],
 "metadata": {
  "kernelspec": {
   "display_name": "Python 3 (ipykernel)",
   "language": "python",
   "name": "python3"
  },
  "language_info": {
   "codemirror_mode": {
    "name": "ipython",
    "version": 3
   },
   "file_extension": ".py",
   "mimetype": "text/x-python",
   "name": "python",
   "nbconvert_exporter": "python",
   "pygments_lexer": "ipython3",
   "version": "3.11.6"
  }
 },
 "nbformat": 4,
 "nbformat_minor": 4
}
