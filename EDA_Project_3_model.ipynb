{
 "cells": [
  {
   "cell_type": "markdown",
   "metadata": {},
   "source": [
    "# 0 Begin chapter"
   ]
  },
  {
   "cell_type": "markdown",
   "metadata": {},
   "source": [
    "## 0.1. install"
   ]
  },
  {
   "cell_type": "code",
   "execution_count": 7,
   "metadata": {},
   "outputs": [
    {
     "name": "stdout",
     "output_type": "stream",
     "text": [
      "Requirement already satisfied: pandas in c:\\users\\f999145\\appdata\\local\\programs\\python\\python311\\lib\\site-packages (2.0.2)"
     ]
    },
    {
     "name": "stderr",
     "output_type": "stream",
     "text": [
      "\n",
      "[notice] A new release of pip is available: 23.2.1 -> 23.3\n",
      "[notice] To update, run: python.exe -m pip install --upgrade pip\n"
     ]
    },
    {
     "name": "stdout",
     "output_type": "stream",
     "text": [
      "\n",
      "Requirement already satisfied: pyarrow in c:\\users\\f999145\\appdata\\local\\programs\\python\\python311\\lib\\site-packages (12.0.1)\n",
      "Requirement already satisfied: nltk in c:\\users\\f999145\\appdata\\local\\programs\\python\\python311\\lib\\site-packages (3.8.1)\n",
      "Requirement already satisfied: ratelimit in c:\\users\\f999145\\appdata\\local\\programs\\python\\python311\\lib\\site-packages (2.2.1)\n",
      "Requirement already satisfied: python-dateutil>=2.8.2 in c:\\users\\f999145\\appdata\\roaming\\python\\python311\\site-packages (from pandas) (2.8.2)\n",
      "Requirement already satisfied: pytz>=2020.1 in c:\\users\\f999145\\appdata\\local\\programs\\python\\python311\\lib\\site-packages (from pandas) (2023.3)\n",
      "Requirement already satisfied: tzdata>=2022.1 in c:\\users\\f999145\\appdata\\local\\programs\\python\\python311\\lib\\site-packages (from pandas) (2023.3)\n",
      "Requirement already satisfied: numpy>=1.21.0 in c:\\users\\f999145\\appdata\\local\\programs\\python\\python311\\lib\\site-packages (from pandas) (1.24.3)\n",
      "Requirement already satisfied: click in c:\\users\\f999145\\appdata\\local\\programs\\python\\python311\\lib\\site-packages (from nltk) (8.1.3)\n",
      "Requirement already satisfied: joblib in c:\\users\\f999145\\appdata\\local\\programs\\python\\python311\\lib\\site-packages (from nltk) (1.2.0)\n",
      "Requirement already satisfied: regex>=2021.8.3 in c:\\users\\f999145\\appdata\\local\\programs\\python\\python311\\lib\\site-packages (from nltk) (2023.10.3)\n",
      "Requirement already satisfied: tqdm in c:\\users\\f999145\\appdata\\local\\programs\\python\\python311\\lib\\site-packages (from nltk) (4.65.0)\n",
      "Requirement already satisfied: six>=1.5 in c:\\users\\f999145\\appdata\\roaming\\python\\python311\\site-packages (from python-dateutil>=2.8.2->pandas) (1.16.0)\n",
      "Requirement already satisfied: colorama in c:\\users\\f999145\\appdata\\roaming\\python\\python311\\site-packages (from click->nltk) (0.4.6)\n"
     ]
    }
   ],
   "source": [
    "!python -m pip install pandas pyarrow nltk ratelimit"
   ]
  },
  {
   "cell_type": "markdown",
   "metadata": {},
   "source": [
    "## 0.2. Import"
   ]
  },
  {
   "cell_type": "code",
   "execution_count": 2,
   "metadata": {},
   "outputs": [
    {
     "name": "stdout",
     "output_type": "stream",
     "text": [
      "INFO: Pandarallel will run on 16 workers.\n",
      "INFO: Pandarallel will use standard multiprocessing data transfer (pipe) to transfer data between the main process and workers.\n",
      "\n",
      "WARNING: You are on Windows. If you detect any issue with pandarallel, be sure you checked out the Troubleshooting page:\n",
      "https://nalepae.github.io/pandarallel/troubleshooting/\n"
     ]
    }
   ],
   "source": [
    "import pandas as pd\n",
    "import numpy as np\n",
    "import sys\n",
    "import json\n",
    "import string\n",
    "import nltk\n",
    "from nltk.corpus import stopwords\n",
    "from nltk.tokenize import word_tokenize\n",
    "from sklearn.preprocessing import MinMaxScaler\n",
    "from ratelimit import limits\n",
    "from config import api_key_mapquests\n",
    "import requests\n",
    "import matplotlib.pyplot as plt\n",
    "import seaborn as sns\n",
    "\n",
    "from IPython.display import clear_output\n",
    "from tqdm.notebook import tqdm\n",
    "tqdm.pandas()\n",
    "from pandarallel import pandarallel\n",
    "pandarallel.initialize(progress_bar=True)"
   ]
  },
  {
   "cell_type": "code",
   "execution_count": 4,
   "metadata": {},
   "outputs": [
    {
     "data": {
      "text/plain": [
       "'3.11.6 (tags/v3.11.6:8b6ee5b, Oct  2 2023, 14:57:12) [MSC v.1935 64 bit (AMD64)]'"
      ]
     },
     "execution_count": 4,
     "metadata": {},
     "output_type": "execute_result"
    }
   ],
   "source": [
    "sys.version\n",
    "# '3.11.6 (tags/v3.11.6:8b6ee5b, Oct  2 2023, 14:57:12) [MSC v.1935 64 bit (AMD64)]'"
   ]
  },
  {
   "cell_type": "markdown",
   "metadata": {},
   "source": [
    "## 0.3. convert csv to parquet"
   ]
  },
  {
   "cell_type": "code",
   "execution_count": 5,
   "metadata": {},
   "outputs": [],
   "source": [
    "hotels = pd.read_csv('data/hotels.zip')\n",
    "# hotels.to_parquet('data/hotels_parquet.gzip', engine='pyarrow', compression='gzip')"
   ]
  },
  {
   "cell_type": "markdown",
   "metadata": {},
   "source": [
    "## 0.4. Functions"
   ]
  },
  {
   "cell_type": "code",
   "execution_count": 6,
   "metadata": {},
   "outputs": [],
   "source": [
    "hotels = hotels.convert_dtypes()"
   ]
  },
  {
   "cell_type": "code",
   "execution_count": 6,
   "metadata": {},
   "outputs": [
    {
     "name": "stdout",
     "output_type": "stream",
     "text": [
      "<class 'pandas.core.frame.DataFrame'>\n",
      "RangeIndex: 386803 entries, 0 to 386802\n",
      "Data columns (total 17 columns):\n",
      " #   Column                                      Non-Null Count   Dtype  \n",
      "---  ------                                      --------------   -----  \n",
      " 0   hotel_address                               386803 non-null  string \n",
      " 1   additional_number_of_scoring                386803 non-null  Int64  \n",
      " 2   review_date                                 386803 non-null  string \n",
      " 3   average_score                               386803 non-null  Float64\n",
      " 4   hotel_name                                  386803 non-null  string \n",
      " 5   reviewer_nationality                        386803 non-null  string \n",
      " 6   negative_review                             386803 non-null  string \n",
      " 7   review_total_negative_word_counts           386803 non-null  Int64  \n",
      " 8   total_number_of_reviews                     386803 non-null  Int64  \n",
      " 9   positive_review                             386803 non-null  string \n",
      " 10  review_total_positive_word_counts           386803 non-null  Int64  \n",
      " 11  total_number_of_reviews_reviewer_has_given  386803 non-null  Int64  \n",
      " 12  reviewer_score                              386803 non-null  Float64\n",
      " 13  tags                                        386803 non-null  string \n",
      " 14  days_since_review                           386803 non-null  string \n",
      " 15  lat                                         384355 non-null  Float64\n",
      " 16  lng                                         384355 non-null  Float64\n",
      "dtypes: Float64(4), Int64(5), string(8)\n",
      "memory usage: 53.5 MB\n"
     ]
    }
   ],
   "source": [
    "hotels.info()"
   ]
  },
  {
   "attachments": {},
   "cell_type": "markdown",
   "metadata": {},
   "source": [
    "## 0.5. INFO\n",
    "---\n",
    "- hotel_address — адрес отеля;\n",
    "- review_date — дата, когда рецензент разместил соответствующий отзыв;\n",
    "- average_score — средний балл отеля, рассчитанный на основе последнего комментария за последний год;\n",
    "- hotel_name — название отеля;\n",
    "- reviewer_nationality — страна рецензента;\n",
    "- negative_review — отрицательный отзыв, который рецензент дал отелю;\n",
    "- review_total_negative_word_counts — общее количество слов в отрицательном отзыв;\n",
    "- positive_review — положительный отзыв, который рецензент дал отелю;\n",
    "- review_total_positive_word_counts — общее количество слов в положительном отзыве.\n",
    "- reviewer_score — оценка, которую рецензент поставил отелю на основе своего опыта;\n",
    "- total_number_of_reviews_reviewer_has_given — количество отзывов, которые рецензенты дали в прошлом;\n",
    "- total_number_of_reviews — общее количество действительных отзывов об отеле;\n",
    "- tags — теги, которые рецензент дал отелю;\n",
    "- days_since_review — количество дней между датой проверки и датой очистки;\n",
    "- additional_number_of_scoring — есть также некоторые гости, которые просто поставили оценку сервису, но не оставили отзыв. Это число указывает, сколько там действительных оценок без проверки.\n",
    "- lat — географическая широта отеля;\n",
    "- lng — географическая долгота отеля.\n",
    "---"
   ]
  },
  {
   "attachments": {},
   "cell_type": "markdown",
   "metadata": {},
   "source": [
    "# 1 Исследование данных"
   ]
  },
  {
   "cell_type": "markdown",
   "metadata": {},
   "source": [
    "## 1.1. Отделение Категориальных признаков"
   ]
  },
  {
   "cell_type": "code",
   "execution_count": 8,
   "metadata": {},
   "outputs": [
    {
     "name": "stdout",
     "output_type": "stream",
     "text": [
      "cat_cols: 15; other_cols: 2\n"
     ]
    }
   ],
   "source": [
    "resolution = hotels.shape[0]\n",
    "tmp_cols = (\n",
    "            hotels\n",
    "            .nunique()\n",
    "            .sort_values(ascending=False)\n",
    "            .to_frame(name='count')\n",
    "            .assign(frec=lambda x: round(100*x['count']/resolution).astype('UInt8'))\n",
    "            )\n",
    "\n",
    "cat_cols = (\n",
    "            tmp_cols\n",
    "            .query('frec < 20')\n",
    "            .index\n",
    "            .to_list()\n",
    "            )\n",
    "\n",
    "other_cols = (\n",
    "                tmp_cols\n",
    "                .query('frec >= 20')\n",
    "                .index\n",
    "                .to_list()\n",
    "                )\n",
    "\n",
    "print(f'cat_cols: {len(cat_cols)}; other_cols: {len(other_cols)}')\n"
   ]
  },
  {
   "cell_type": "markdown",
   "metadata": {},
   "source": [
    "## 1.2. Преобразование Категориальных признаков"
   ]
  },
  {
   "cell_type": "markdown",
   "metadata": {},
   "source": [
    "### 1.2.1. Преобразование типов Object"
   ]
  },
  {
   "cell_type": "code",
   "execution_count": 9,
   "metadata": {},
   "outputs": [
    {
     "data": {
      "text/html": [
       "<div>\n",
       "<style scoped>\n",
       "    .dataframe tbody tr th:only-of-type {\n",
       "        vertical-align: middle;\n",
       "    }\n",
       "\n",
       "    .dataframe tbody tr th {\n",
       "        vertical-align: top;\n",
       "    }\n",
       "\n",
       "    .dataframe thead th {\n",
       "        text-align: right;\n",
       "    }\n",
       "</style>\n",
       "<table border=\"1\" class=\"dataframe\">\n",
       "  <thead>\n",
       "    <tr style=\"text-align: right;\">\n",
       "      <th></th>\n",
       "      <th>tags</th>\n",
       "      <th>hotel_address</th>\n",
       "      <th>hotel_name</th>\n",
       "      <th>days_since_review</th>\n",
       "      <th>review_date</th>\n",
       "      <th>reviewer_nationality</th>\n",
       "    </tr>\n",
       "  </thead>\n",
       "  <tbody>\n",
       "    <tr>\n",
       "      <th>0</th>\n",
       "      <td>[' Leisure trip ', ' Couple ', ' Studio Suite ...</td>\n",
       "      <td>Stratton Street Mayfair Westminster Borough Lo...</td>\n",
       "      <td>The May Fair Hotel</td>\n",
       "      <td>531 day</td>\n",
       "      <td>2/19/2016</td>\n",
       "      <td>United Kingdom</td>\n",
       "    </tr>\n",
       "    <tr>\n",
       "      <th>1</th>\n",
       "      <td>[' Business trip ', ' Couple ', ' Standard Dou...</td>\n",
       "      <td>130 134 Southampton Row Camden London WC1B 5AF...</td>\n",
       "      <td>Mercure London Bloomsbury Hotel</td>\n",
       "      <td>203 day</td>\n",
       "      <td>1/12/2017</td>\n",
       "      <td>United Kingdom</td>\n",
       "    </tr>\n",
       "    <tr>\n",
       "      <th>2</th>\n",
       "      <td>[' Leisure trip ', ' Solo traveler ', ' Modern...</td>\n",
       "      <td>151 bis Rue de Rennes 6th arr 75006 Paris France</td>\n",
       "      <td>Legend Saint Germain by Elegancia</td>\n",
       "      <td>289 day</td>\n",
       "      <td>10/18/2016</td>\n",
       "      <td>China</td>\n",
       "    </tr>\n",
       "    <tr>\n",
       "      <th>3</th>\n",
       "      <td>[' Leisure trip ', ' Solo traveler ', ' Standa...</td>\n",
       "      <td>216 Avenue Jean Jaures 19th arr 75019 Paris Fr...</td>\n",
       "      <td>Mercure Paris 19 Philharmonie La Villette</td>\n",
       "      <td>681 day</td>\n",
       "      <td>9/22/2015</td>\n",
       "      <td>United Kingdom</td>\n",
       "    </tr>\n",
       "    <tr>\n",
       "      <th>4</th>\n",
       "      <td>[' Business trip ', ' Couple ', ' Standard Dou...</td>\n",
       "      <td>Molenwerf 1 1014 AG Amsterdam Netherlands</td>\n",
       "      <td>Golden Tulip Amsterdam West</td>\n",
       "      <td>516 day</td>\n",
       "      <td>3/5/2016</td>\n",
       "      <td>Poland</td>\n",
       "    </tr>\n",
       "  </tbody>\n",
       "</table>\n",
       "</div>"
      ],
      "text/plain": [
       "                                                tags  \\\n",
       "0  [' Leisure trip ', ' Couple ', ' Studio Suite ...   \n",
       "1  [' Business trip ', ' Couple ', ' Standard Dou...   \n",
       "2  [' Leisure trip ', ' Solo traveler ', ' Modern...   \n",
       "3  [' Leisure trip ', ' Solo traveler ', ' Standa...   \n",
       "4  [' Business trip ', ' Couple ', ' Standard Dou...   \n",
       "\n",
       "                                       hotel_address  \\\n",
       "0  Stratton Street Mayfair Westminster Borough Lo...   \n",
       "1  130 134 Southampton Row Camden London WC1B 5AF...   \n",
       "2   151 bis Rue de Rennes 6th arr 75006 Paris France   \n",
       "3  216 Avenue Jean Jaures 19th arr 75019 Paris Fr...   \n",
       "4          Molenwerf 1 1014 AG Amsterdam Netherlands   \n",
       "\n",
       "                                  hotel_name days_since_review review_date  \\\n",
       "0                         The May Fair Hotel           531 day   2/19/2016   \n",
       "1            Mercure London Bloomsbury Hotel           203 day   1/12/2017   \n",
       "2          Legend Saint Germain by Elegancia           289 day  10/18/2016   \n",
       "3  Mercure Paris 19 Philharmonie La Villette           681 day   9/22/2015   \n",
       "4                Golden Tulip Amsterdam West           516 day    3/5/2016   \n",
       "\n",
       "  reviewer_nationality  \n",
       "0      United Kingdom   \n",
       "1      United Kingdom   \n",
       "2               China   \n",
       "3      United Kingdom   \n",
       "4              Poland   "
      ]
     },
     "execution_count": 9,
     "metadata": {},
     "output_type": "execute_result"
    }
   ],
   "source": [
    "object_cols = hotels[cat_cols].select_dtypes(include='string').columns.to_list()\n",
    "# other_cat_cols = [x for x in cat_cols if x not in object_cols]\n",
    "other_cat_cols = list(filter(lambda x: x not in object_cols, cat_cols))\n",
    "\n",
    "hotels[object_cols].head()"
   ]
  },
  {
   "cell_type": "code",
   "execution_count": 10,
   "metadata": {},
   "outputs": [],
   "source": [
    "# Преобразование столбца \"tags\"\n",
    "hotels['tags'] = hotels['tags'].str.replace('\\'','\\\"' ).apply(lambda x: json.loads(x))\n",
    "\n",
    "# Преобразование признака \"days_since_review\"\n",
    "hotels['days_since_review'] = hotels['days_since_review'].str.extract('(\\d+) day', expand=False).astype('UInt16')\n",
    "\n",
    "# Преобразование признака \"review_date\"\n",
    "hotels['review_date'] = pd.to_datetime(hotels['review_date'])\n",
    "\n",
    "# Преобразование признака  \"reviewer_nationality\"\n",
    "hotels['hotel_name'] = hotels['hotel_name'].str.strip().replace('', np.nan)\n",
    "category_order_list = sorted([x for x in hotels['hotel_name'].unique() if not pd.isnull(x)])\n",
    "hotels['hotel_name'] = hotels['hotel_name'].astype('category').cat.set_categories(category_order_list, ordered=True)\n",
    "\n",
    "# Преобразование признака  \"reviewer_nationality\"\n",
    "hotels['reviewer_nationality'] = hotels['reviewer_nationality'].str.strip().replace('', np.nan)\n",
    "category_order_list = sorted([x for x in hotels['reviewer_nationality'].unique() if not pd.isnull(x)])\n",
    "hotels['reviewer_nationality'] = hotels['reviewer_nationality'].astype('category').cat.set_categories(category_order_list, ordered=True)\n",
    "\n",
    "# Преобразование признака \"hotel_address\"\n",
    "hotels['hotel_address'] = hotels['hotel_address'].astype('string')"
   ]
  },
  {
   "cell_type": "markdown",
   "metadata": {},
   "source": [
    "### 1.2.2. Преобразование типов других типов"
   ]
  },
  {
   "cell_type": "code",
   "execution_count": 11,
   "metadata": {},
   "outputs": [
    {
     "data": {
      "text/html": [
       "<div>\n",
       "<style scoped>\n",
       "    .dataframe tbody tr th:only-of-type {\n",
       "        vertical-align: middle;\n",
       "    }\n",
       "\n",
       "    .dataframe tbody tr th {\n",
       "        vertical-align: top;\n",
       "    }\n",
       "\n",
       "    .dataframe thead th {\n",
       "        text-align: right;\n",
       "    }\n",
       "</style>\n",
       "<table border=\"1\" class=\"dataframe\">\n",
       "  <thead>\n",
       "    <tr style=\"text-align: right;\">\n",
       "      <th></th>\n",
       "      <th>lat</th>\n",
       "      <th>lng</th>\n",
       "      <th>total_number_of_reviews</th>\n",
       "      <th>additional_number_of_scoring</th>\n",
       "      <th>review_total_negative_word_counts</th>\n",
       "      <th>review_total_positive_word_counts</th>\n",
       "      <th>total_number_of_reviews_reviewer_has_given</th>\n",
       "      <th>reviewer_score</th>\n",
       "      <th>average_score</th>\n",
       "    </tr>\n",
       "  </thead>\n",
       "  <tbody>\n",
       "    <tr>\n",
       "      <th>0</th>\n",
       "      <td>51.507894</td>\n",
       "      <td>-0.143671</td>\n",
       "      <td>1994</td>\n",
       "      <td>581</td>\n",
       "      <td>3</td>\n",
       "      <td>4</td>\n",
       "      <td>7</td>\n",
       "      <td>10.0</td>\n",
       "      <td>8.4</td>\n",
       "    </tr>\n",
       "    <tr>\n",
       "      <th>1</th>\n",
       "      <td>51.521009</td>\n",
       "      <td>-0.123097</td>\n",
       "      <td>1361</td>\n",
       "      <td>299</td>\n",
       "      <td>3</td>\n",
       "      <td>2</td>\n",
       "      <td>14</td>\n",
       "      <td>6.3</td>\n",
       "      <td>8.3</td>\n",
       "    </tr>\n",
       "    <tr>\n",
       "      <th>2</th>\n",
       "      <td>48.845377</td>\n",
       "      <td>2.325643</td>\n",
       "      <td>406</td>\n",
       "      <td>32</td>\n",
       "      <td>6</td>\n",
       "      <td>0</td>\n",
       "      <td>14</td>\n",
       "      <td>7.5</td>\n",
       "      <td>8.9</td>\n",
       "    </tr>\n",
       "    <tr>\n",
       "      <th>3</th>\n",
       "      <td>48.888697</td>\n",
       "      <td>2.39454</td>\n",
       "      <td>607</td>\n",
       "      <td>34</td>\n",
       "      <td>0</td>\n",
       "      <td>11</td>\n",
       "      <td>8</td>\n",
       "      <td>10.0</td>\n",
       "      <td>7.5</td>\n",
       "    </tr>\n",
       "    <tr>\n",
       "      <th>4</th>\n",
       "      <td>52.385601</td>\n",
       "      <td>4.84706</td>\n",
       "      <td>7586</td>\n",
       "      <td>914</td>\n",
       "      <td>4</td>\n",
       "      <td>20</td>\n",
       "      <td>10</td>\n",
       "      <td>9.6</td>\n",
       "      <td>8.5</td>\n",
       "    </tr>\n",
       "  </tbody>\n",
       "</table>\n",
       "</div>"
      ],
      "text/plain": [
       "         lat       lng  total_number_of_reviews  additional_number_of_scoring  \\\n",
       "0  51.507894 -0.143671                     1994                           581   \n",
       "1  51.521009 -0.123097                     1361                           299   \n",
       "2  48.845377  2.325643                      406                            32   \n",
       "3  48.888697   2.39454                      607                            34   \n",
       "4  52.385601   4.84706                     7586                           914   \n",
       "\n",
       "   review_total_negative_word_counts  review_total_positive_word_counts  \\\n",
       "0                                  3                                  4   \n",
       "1                                  3                                  2   \n",
       "2                                  6                                  0   \n",
       "3                                  0                                 11   \n",
       "4                                  4                                 20   \n",
       "\n",
       "   total_number_of_reviews_reviewer_has_given  reviewer_score  average_score  \n",
       "0                                           7            10.0            8.4  \n",
       "1                                          14             6.3            8.3  \n",
       "2                                          14             7.5            8.9  \n",
       "3                                           8            10.0            7.5  \n",
       "4                                          10             9.6            8.5  "
      ]
     },
     "execution_count": 11,
     "metadata": {},
     "output_type": "execute_result"
    }
   ],
   "source": [
    "hotels[other_cat_cols].head()"
   ]
  },
  {
   "cell_type": "code",
   "execution_count": 12,
   "metadata": {},
   "outputs": [],
   "source": [
    "hotels['lat'] = hotels['lat'].astype('Float32')\n",
    "hotels['lng'] = hotels['lng'].astype('Float32')\n",
    "hotels['total_number_of_reviews'] = hotels['total_number_of_reviews'].astype('UInt16')\n",
    "hotels['additional_number_of_scoring'] = hotels['additional_number_of_scoring'].astype('UInt16')\n",
    "hotels['review_total_negative_word_counts'] = hotels['review_total_negative_word_counts'].astype('UInt16')\n",
    "hotels['review_total_positive_word_counts'] = hotels['review_total_positive_word_counts'].astype('UInt16')\n",
    "hotels['total_number_of_reviews_reviewer_has_given'] = hotels['total_number_of_reviews_reviewer_has_given'].astype('UInt16')\n",
    "hotels['reviewer_score'] = hotels['reviewer_score'].astype('Float32')\n",
    "hotels['average_score'] = hotels['average_score'].astype('Float32')"
   ]
  },
  {
   "cell_type": "code",
   "execution_count": 13,
   "metadata": {},
   "outputs": [
    {
     "data": {
      "text/html": [
       "<div>\n",
       "<style scoped>\n",
       "    .dataframe tbody tr th:only-of-type {\n",
       "        vertical-align: middle;\n",
       "    }\n",
       "\n",
       "    .dataframe tbody tr th {\n",
       "        vertical-align: top;\n",
       "    }\n",
       "\n",
       "    .dataframe thead th {\n",
       "        text-align: right;\n",
       "    }\n",
       "</style>\n",
       "<table border=\"1\" class=\"dataframe\">\n",
       "  <thead>\n",
       "    <tr style=\"text-align: right;\">\n",
       "      <th></th>\n",
       "      <th>lat</th>\n",
       "      <th>lng</th>\n",
       "      <th>total_number_of_reviews</th>\n",
       "      <th>additional_number_of_scoring</th>\n",
       "      <th>review_total_negative_word_counts</th>\n",
       "      <th>review_total_positive_word_counts</th>\n",
       "      <th>total_number_of_reviews_reviewer_has_given</th>\n",
       "      <th>reviewer_score</th>\n",
       "      <th>average_score</th>\n",
       "    </tr>\n",
       "  </thead>\n",
       "  <tbody>\n",
       "    <tr>\n",
       "      <th>0</th>\n",
       "      <td>51.507893</td>\n",
       "      <td>-0.143671</td>\n",
       "      <td>1994</td>\n",
       "      <td>581</td>\n",
       "      <td>3</td>\n",
       "      <td>4</td>\n",
       "      <td>7</td>\n",
       "      <td>10.0</td>\n",
       "      <td>8.4</td>\n",
       "    </tr>\n",
       "    <tr>\n",
       "      <th>1</th>\n",
       "      <td>51.521008</td>\n",
       "      <td>-0.123097</td>\n",
       "      <td>1361</td>\n",
       "      <td>299</td>\n",
       "      <td>3</td>\n",
       "      <td>2</td>\n",
       "      <td>14</td>\n",
       "      <td>6.3</td>\n",
       "      <td>8.3</td>\n",
       "    </tr>\n",
       "    <tr>\n",
       "      <th>2</th>\n",
       "      <td>48.845379</td>\n",
       "      <td>2.325643</td>\n",
       "      <td>406</td>\n",
       "      <td>32</td>\n",
       "      <td>6</td>\n",
       "      <td>0</td>\n",
       "      <td>14</td>\n",
       "      <td>7.5</td>\n",
       "      <td>8.9</td>\n",
       "    </tr>\n",
       "    <tr>\n",
       "      <th>3</th>\n",
       "      <td>48.888699</td>\n",
       "      <td>2.39454</td>\n",
       "      <td>607</td>\n",
       "      <td>34</td>\n",
       "      <td>0</td>\n",
       "      <td>11</td>\n",
       "      <td>8</td>\n",
       "      <td>10.0</td>\n",
       "      <td>7.5</td>\n",
       "    </tr>\n",
       "    <tr>\n",
       "      <th>4</th>\n",
       "      <td>52.385601</td>\n",
       "      <td>4.84706</td>\n",
       "      <td>7586</td>\n",
       "      <td>914</td>\n",
       "      <td>4</td>\n",
       "      <td>20</td>\n",
       "      <td>10</td>\n",
       "      <td>9.6</td>\n",
       "      <td>8.5</td>\n",
       "    </tr>\n",
       "  </tbody>\n",
       "</table>\n",
       "</div>"
      ],
      "text/plain": [
       "         lat       lng  total_number_of_reviews  additional_number_of_scoring  \\\n",
       "0  51.507893 -0.143671                     1994                           581   \n",
       "1  51.521008 -0.123097                     1361                           299   \n",
       "2  48.845379  2.325643                      406                            32   \n",
       "3  48.888699   2.39454                      607                            34   \n",
       "4  52.385601   4.84706                     7586                           914   \n",
       "\n",
       "   review_total_negative_word_counts  review_total_positive_word_counts  \\\n",
       "0                                  3                                  4   \n",
       "1                                  3                                  2   \n",
       "2                                  6                                  0   \n",
       "3                                  0                                 11   \n",
       "4                                  4                                 20   \n",
       "\n",
       "   total_number_of_reviews_reviewer_has_given  reviewer_score  average_score  \n",
       "0                                           7            10.0            8.4  \n",
       "1                                          14             6.3            8.3  \n",
       "2                                          14             7.5            8.9  \n",
       "3                                           8            10.0            7.5  \n",
       "4                                          10             9.6            8.5  "
      ]
     },
     "execution_count": 13,
     "metadata": {},
     "output_type": "execute_result"
    }
   ],
   "source": [
    "hotels[other_cat_cols].head()"
   ]
  },
  {
   "cell_type": "code",
   "execution_count": 14,
   "metadata": {},
   "outputs": [],
   "source": [
    "hotels['negative_review'] = hotels['negative_review'].astype('string')\n",
    "hotels['positive_review'] = hotels['positive_review'].astype('string')"
   ]
  },
  {
   "cell_type": "markdown",
   "metadata": {},
   "source": [
    "### 1.2.3. Работа с признаком \"Tags\""
   ]
  },
  {
   "cell_type": "code",
   "execution_count": null,
   "metadata": {},
   "outputs": [],
   "source": [
    "# a = (\n",
    "#         hotels['tags']\n",
    "#         .explode()\n",
    "#         .str.strip()\n",
    "#         .value_counts()\n",
    "#         .to_frame()\n",
    "#         )\n",
    "# tags_unique_list = dict(zip(b:=(\n",
    "#                                 pd.DataFrame(\n",
    "#                                                 zip(\n",
    "#                                                         a.index,\n",
    "#                                                         scaler.fit_transform(a.values).flatten()\n",
    "#                                                         ),\n",
    "#                                                 columns=('tags', 'proportion')\n",
    "#                                             )\n",
    "#                                 .query('proportion > 0.2')['tags']\n",
    "#                                 .values\n",
    "#                                 ),\n",
    "#                                 [False]*len(b)\n",
    "#                             ))"
   ]
  },
  {
   "cell_type": "code",
   "execution_count": 15,
   "metadata": {},
   "outputs": [
    {
     "data": {
      "text/plain": [
       "(386803, 51)"
      ]
     },
     "execution_count": 15,
     "metadata": {},
     "output_type": "execute_result"
    }
   ],
   "source": [
    "tags_unique_list = dict(zip(a:=(\n",
    "                            hotels['tags']\n",
    "                            .explode()\n",
    "                            .str.strip()\n",
    "                            # .unique()\n",
    "                            .value_counts()\n",
    "                            .to_frame()\n",
    "                            .assign(count=lambda x: x['count']/hotels.shape[0])\n",
    "                            .query('count > 0.01')\n",
    "                            .index\n",
    "                            ),\n",
    "                            [False]*len(a)\n",
    "                            ))\n",
    "\n",
    "\n",
    " \n",
    "def get_dummis_table(row: pd.Series, tags_unique_list: dict):\n",
    "    \"\"\"\n",
    "    \n",
    "    \"\"\"\n",
    "    import pandas as pd\n",
    "    tmp_dict =tags_unique_list.copy()\n",
    "    for item in list(map(lambda x: x.strip(), row)):\n",
    "        if item in tmp_dict.keys():\n",
    "            tmp_dict[item] = True\n",
    "    return pd.Series(tmp_dict)\n",
    "\n",
    "\n",
    "hotels = pd.concat((hotels, hotels['tags'].parallel_apply(get_dummis_table, args=(tags_unique_list,))), axis=1)\n",
    "clear_output()\n",
    "hotels.shape\n"
   ]
  },
  {
   "cell_type": "markdown",
   "metadata": {},
   "source": [
    "### 1.2.4. Работа с отзывами."
   ]
  },
  {
   "cell_type": "code",
   "execution_count": 16,
   "metadata": {},
   "outputs": [],
   "source": [
    "nltk.download('stopwords')\n",
    "nltk.download('punkt')\n",
    "\n",
    "# Удаление пунктуации\n",
    "def remove_punctuation(text: str):\n",
    "    import string\n",
    "    translator = str.maketrans('', '', string.punctuation)\n",
    "    return text.translate(translator)\n",
    "\n",
    "# Убираем стом слова\n",
    "def remove_stopwords(text: str):\n",
    "    from nltk.corpus import stopwords\n",
    "    from nltk.tokenize import word_tokenize\n",
    "    \n",
    "    text = text.lower()\n",
    "    stop_words = set(stopwords.words('english'))\n",
    "    tokens = word_tokenize(text)\n",
    "    filtered_text = [word for word in tokens if word not in stop_words]\n",
    "    return ' '.join(filtered_text)\n",
    "\n",
    "# Нормализуем окончания\n",
    "def normalize_endings(text: str):\n",
    "    from nltk.tokenize import word_tokenize\n",
    "    from nltk.stem import SnowballStemmer\n",
    "    \n",
    "    stemmer = SnowballStemmer('english')\n",
    "    tokens = word_tokenize(text)\n",
    "    normalized_text = [stemmer.stem(word) for word in tokens]\n",
    "    return ' '.join(normalized_text)\n",
    "\n",
    "\n",
    "hotels['negative_review'] = hotels['negative_review'].progress_apply(remove_punctuation)\n",
    "clear_output()\n",
    "\n",
    "hotels['negative_review'] = hotels['negative_review'].parallel_apply(remove_stopwords)\n",
    "clear_output()\n",
    "\n",
    "hotels['negative_review'] = hotels['negative_review'].parallel_apply(normalize_endings)\n",
    "clear_output()\n",
    "\n",
    "hotels['positive_review'] = hotels['positive_review'].progress_apply(remove_punctuation)\n",
    "clear_output()\n",
    "\n",
    "hotels['positive_review'] = hotels['positive_review'].parallel_apply(remove_stopwords)\n",
    "clear_output()\n",
    "\n",
    "hotels['positive_review'] = hotels['positive_review'].parallel_apply(normalize_endings)\n",
    "clear_output()\n",
    "\n",
    "hotels['positive_review'] = hotels['positive_review'].str.split()\n",
    "hotels['negative_review'] = hotels['negative_review'].str.split()"
   ]
  },
  {
   "cell_type": "code",
   "execution_count": 17,
   "metadata": {},
   "outputs": [
    {
     "data": {
      "text/plain": [
       "(386803, 404)"
      ]
     },
     "execution_count": 17,
     "metadata": {},
     "output_type": "execute_result"
    }
   ],
   "source": [
    "review_unique_dict = dict(zip(a:=(\n",
    "                                pd.concat((hotels['positive_review'], hotels['negative_review']), axis=0, ignore_index=True)\n",
    "                                .explode(ignore_index=True)\n",
    "                                # .unique()\n",
    "                                .value_counts()\n",
    "                                .to_frame()\n",
    "                                .assign(count=lambda x: x['count']/hotels.shape[0])\n",
    "                                .query('count > 0.01')\n",
    "                                .index\n",
    "                                ),\n",
    "                              [False]*len(a)\n",
    "                              ))\n",
    "\n",
    "\n",
    "\n",
    "def get_dummis_review_table(row: pd.Series, review_unique_dict: dict):\n",
    "    import pandas as pd\n",
    "    tmp_dict = review_unique_dict.copy()\n",
    "    for item in row['positive_review']:\n",
    "        if item in tmp_dict.keys():\n",
    "            tmp_dict[item] = True\n",
    "    for item in row['negative_review']:\n",
    "        if item in tmp_dict.keys():\n",
    "            tmp_dict[item] = True\n",
    "    return pd.Series(tmp_dict)\n",
    "\n",
    "hotels = pd.concat((hotels, hotels.parallel_apply(get_dummis_review_table, args=(review_unique_dict,), axis=1)), axis=1)\n",
    "clear_output()\n",
    "hotels.shape"
   ]
  },
  {
   "cell_type": "code",
   "execution_count": 18,
   "metadata": {},
   "outputs": [
    {
     "data": {
      "text/plain": [
       "(386803, 384)"
      ]
     },
     "execution_count": 18,
     "metadata": {},
     "output_type": "execute_result"
    }
   ],
   "source": [
    "hotels = (\n",
    "            hotels\n",
    "            .drop(columns=(\n",
    "                            (hotels.iloc[:,17:].sum(axis=0)/hotels.shape[0])\n",
    "                            .to_frame(name='proportion')\n",
    "                            .query('proportion < 0.01')\n",
    "                            .index\n",
    "                        ))\n",
    "            # .drop(columns=['negative_review', 'positive_review', 'tags'])\n",
    "        )\n",
    "hotels.shape"
   ]
  },
  {
   "cell_type": "code",
   "execution_count": 19,
   "metadata": {},
   "outputs": [],
   "source": [
    "cols_bool = (hotels.iloc[:,17:].sum(axis=0)/hotels.shape[0]).to_frame(name='proportion')\n",
    "cols_bool.to_parquet('data/cols_bool_parquet.gzip', engine='pyarrow', compression='gzip')"
   ]
  },
  {
   "cell_type": "markdown",
   "metadata": {},
   "source": [
    "### 1.2.5. Работа с адресами."
   ]
  },
  {
   "cell_type": "code",
   "execution_count": 20,
   "metadata": {},
   "outputs": [],
   "source": [
    "address_guide = pd.read_parquet('data/address_guide_parquet.gzip')"
   ]
  },
  {
   "cell_type": "code",
   "execution_count": 129,
   "metadata": {},
   "outputs": [],
   "source": [
    "def _get_json_address(col_value: str, api_key: str) -> str:\n",
    "    import requests\n",
    "    import numpy as np\n",
    "    import pandas as pd\n",
    "    url = 'https://www.mapquestapi.com/geocoding/v1/address'\n",
    "    params = {\n",
    "        'key': api_key,\n",
    "        'location': col_value,\n",
    "    }\n",
    "    \n",
    "    cols = ['country', 'city', 'Neighborhood']\n",
    "    \n",
    "    \n",
    "    try:\n",
    "        res = requests.get(url=url, params=params)\n",
    "    except TimeoutError:\n",
    "        return pd.Series([np.nan]*len(cols), index=cols)\n",
    "    except requests.ConnectTimeout:\n",
    "        return pd.Series([np.nan]*len(cols), index=cols)\n",
    "    \n",
    "    tmp = res.json()\n",
    "    \n",
    "    country = tmp.get('results', [{}])[0].get('locations', [{}])[0].get('adminArea1')\n",
    "    # state = tmp.get('results', [{}])[0].get('locations', [{}])[0].get('adminArea3')\n",
    "    # county = tmp.get('results', [{}])[0].get('locations', [{}])[0].get('adminArea4')\n",
    "    city = tmp.get('results', [{}])[0].get('locations', [{}])[0].get('adminArea5')\n",
    "    Neighborhood = tmp.get('results', [{}])[0].get('locations', [{}])[0].get('adminArea6')\n",
    "    # street = tmp.get('results', [{}])[0].get('locations', [{}])[0].get('street')\n",
    "    \n",
    "    return pd.Series([country, city, Neighborhood], index=cols)"
   ]
  },
  {
   "cell_type": "code",
   "execution_count": 130,
   "metadata": {},
   "outputs": [
    {
     "data": {
      "text/plain": [
       "address         1493\n",
       "country            8\n",
       "city              14\n",
       "Neighborhood     219\n",
       "dtype: int64"
      ]
     },
     "execution_count": 130,
     "metadata": {},
     "output_type": "execute_result"
    }
   ],
   "source": [
    "tmp = pd.DataFrame(hotels['hotel_address'].unique(), columns=['address'])\n",
    "address_guide = pd.concat((tmp, tmp['address'].parallel_apply(_get_json_address, args=(api_key_mapquests,))), axis=1)\n",
    "clear_output()\n",
    "# Преобразование признаков\n",
    "for col in address_guide.columns[1:]:\n",
    "    category_order_list = sorted([x for x in address_guide[col].unique() if not pd.isnull(x)])\n",
    "    address_guide[col] = address_guide[col].astype('category').cat.set_categories(category_order_list, ordered=True)\n",
    "address_guide.nunique()"
   ]
  },
  {
   "cell_type": "code",
   "execution_count": 191,
   "metadata": {},
   "outputs": [],
   "source": [
    "address_guide.to_parquet('data/address_guide_parquet.gzip', engine='pyarrow', compression='gzip')"
   ]
  },
  {
   "cell_type": "code",
   "execution_count": 21,
   "metadata": {},
   "outputs": [],
   "source": [
    "# hotels = hotels.merge(right=address_guide, how='left', left_on='hotel_address', right_on='address').drop(columns=['hotel_address', 'address'])\n",
    "hotels = hotels.merge(right=address_guide, how='left', left_on='hotel_address', right_on='address').drop(columns='address')"
   ]
  },
  {
   "cell_type": "code",
   "execution_count": 29,
   "metadata": {},
   "outputs": [],
   "source": [
    "hotels.to_parquet('data/hotels_v3_parquet.gzip', engine='pyarrow', compression='gzip')"
   ]
  },
  {
   "cell_type": "markdown",
   "metadata": {},
   "source": [
    "# 2. Подготовка данных для модели"
   ]
  },
  {
   "cell_type": "code",
   "execution_count": 51,
   "metadata": {},
   "outputs": [],
   "source": [
    "hotels = pd.read_parquet('data/hotels_v2_parquet.gzip')"
   ]
  },
  {
   "cell_type": "code",
   "execution_count": 43,
   "metadata": {},
   "outputs": [
    {
     "name": "stdout",
     "output_type": "stream",
     "text": [
      "<class 'pandas.core.frame.DataFrame'>\n",
      "RangeIndex: 386803 entries, 0 to 386802\n",
      "Data columns (total 40 columns):\n",
      " #   Column                                      Non-Null Count   Dtype   \n",
      "---  ------                                      --------------   -----   \n",
      " 0   additional_number_of_scoring                386803 non-null  UInt16  \n",
      " 1   average_score                               386803 non-null  Float32 \n",
      " 2   hotel_name                                  386803 non-null  category\n",
      " 3   reviewer_nationality                        386408 non-null  category\n",
      " 4   review_total_negative_word_counts           386803 non-null  UInt16  \n",
      " 5   total_number_of_reviews                     386803 non-null  UInt16  \n",
      " 6   review_total_positive_word_counts           386803 non-null  UInt16  \n",
      " 7   total_number_of_reviews_reviewer_has_given  386803 non-null  UInt16  \n",
      " 8   reviewer_score                              386803 non-null  Float32 \n",
      " 9   days_since_review                           386803 non-null  UInt16  \n",
      " 10  lat                                         384355 non-null  Float32 \n",
      " 11  lng                                         384355 non-null  Float32 \n",
      " 12  Leisure trip                                386803 non-null  bool    \n",
      " 13  Submitted from a mobile device              386803 non-null  bool    \n",
      " 14  Couple                                      386803 non-null  bool    \n",
      " 15  Stayed 1 night                              386803 non-null  bool    \n",
      " 16  Stayed 2 nights                             386803 non-null  bool    \n",
      " 17  Solo traveler                               386803 non-null  bool    \n",
      " 18  Stayed 3 nights                             386803 non-null  bool    \n",
      " 19  Business trip                               386803 non-null  bool    \n",
      " 20  Group                                       386803 non-null  bool    \n",
      " 21  Family with young children                  386803 non-null  bool    \n",
      " 22  room                                        386803 non-null  bool    \n",
      " 23  staff                                       386803 non-null  bool    \n",
      " 24  locat                                       386803 non-null  bool    \n",
      " 25  hotel                                       386803 non-null  bool    \n",
      " 26  breakfast                                   386803 non-null  bool    \n",
      " 27  good                                        386803 non-null  bool    \n",
      " 28  great                                       386803 non-null  bool    \n",
      " 29  bed                                         386803 non-null  bool    \n",
      " 30  help                                        386803 non-null  bool    \n",
      " 31  friend                                      386803 non-null  bool    \n",
      " 32  clean                                       386803 non-null  bool    \n",
      " 33  nice                                        386803 non-null  bool    \n",
      " 34  comfort                                     386803 non-null  bool    \n",
      " 35  excel                                       386803 non-null  bool    \n",
      " 36  country                                     386803 non-null  category\n",
      " 37  city                                        386803 non-null  category\n",
      " 38  Neighborhood                                386803 non-null  category\n",
      " 39  review_date_from_2015-01-01                 386803 non-null  UInt16  \n",
      "dtypes: Float32(4), UInt16(7), bool(24), category(5)\n",
      "memory usage: 27.0 MB\n"
     ]
    }
   ],
   "source": [
    "hotels['review_date_from_2015-01-01'] = (hotels['review_date'] - pd.to_datetime('2015-01-01')).dt.days.astype('UInt16')\n",
    "drop_col_list = list(hotels.select_dtypes('object').columns)\n",
    "drop_col_list.extend(list(hotels.select_dtypes('string').columns))\n",
    "drop_col_list.extend(list(hotels.select_dtypes('datetime64[ns]').columns))\n",
    "\n",
    "hotels = hotels.drop(columns=drop_col_list)\n",
    "hotels.info()"
   ]
  },
  {
   "cell_type": "code",
   "execution_count": 44,
   "metadata": {},
   "outputs": [],
   "source": [
    "for col in hotels.select_dtypes('category').columns:\n",
    "    hotels[col] = (hotels[col].cat.codes + 1).fillna(0)\n",
    "\n",
    "hotels = hotels.fillna(0)\n",
    "    "
   ]
  },
  {
   "cell_type": "code",
   "execution_count": 45,
   "metadata": {},
   "outputs": [],
   "source": [
    "# Разбиваем датафрейм на части, необходимые для обучения и тестирования модели  \n",
    "# Х - данные с информацией об отелях, у - целевая переменная (рейтинги отелей)  \n",
    "X = hotels.drop(['reviewer_score'], axis = 1)  \n",
    "y = hotels['reviewer_score'] "
   ]
  },
  {
   "cell_type": "code",
   "execution_count": 46,
   "metadata": {},
   "outputs": [],
   "source": [
    "# Загружаем специальный инструмент для разбивки:  \n",
    "from sklearn.model_selection import train_test_split  "
   ]
  },
  {
   "cell_type": "code",
   "execution_count": 47,
   "metadata": {},
   "outputs": [],
   "source": [
    "# Наборы данных с меткой \"train\" будут использоваться для обучения модели, \"test\" - для тестирования.  \n",
    "# Для тестирования мы будем использовать 25% от исходного датасета.  \n",
    "X_train, X_test, y_train, y_test = train_test_split(X, y, test_size=0.25, random_state=42)"
   ]
  },
  {
   "cell_type": "code",
   "execution_count": 48,
   "metadata": {},
   "outputs": [],
   "source": [
    "# Импортируем необходимые библиотеки:  \n",
    "from sklearn.ensemble import RandomForestRegressor # инструмент для создания и обучения модели  \n",
    "from sklearn import metrics # инструменты для оценки точности модели  \n",
    "  \n",
    "# Создаём модель  \n",
    "regr = RandomForestRegressor(n_estimators=100)  \n",
    "      \n",
    "# Обучаем модель на тестовом наборе данных  \n",
    "regr.fit(X_train, y_train)  \n",
    "      \n",
    "# Используем обученную модель для предсказания рейтинга отелей в тестовой выборке.  \n",
    "# Предсказанные значения записываем в переменную y_pred  \n",
    "y_pred = regr.predict(X_test)  \n"
   ]
  },
  {
   "cell_type": "code",
   "execution_count": 49,
   "metadata": {},
   "outputs": [
    {
     "name": "stdout",
     "output_type": "stream",
     "text": [
      "MAPE: 0.13209802929632247\n"
     ]
    }
   ],
   "source": [
    "# Сравниваем предсказанные значения (y_pred) с реальными (y_test), и смотрим насколько они отличаются  \n",
    "# Метрика называется Mean Absolute Percentage Error (MAPE) и показывает среднюю абсолютную процентную ошибку предсказанных значений от фактических.  \n",
    "print('MAPE:', metrics.mean_absolute_percentage_error(y_test, y_pred))"
   ]
  },
  {
   "cell_type": "markdown",
   "metadata": {},
   "source": [
    "# 3. EDA"
   ]
  },
  {
   "cell_type": "code",
   "execution_count": 10,
   "metadata": {},
   "outputs": [
    {
     "data": {
      "text/plain": [
       "(386803, 407)"
      ]
     },
     "execution_count": 10,
     "metadata": {},
     "output_type": "execute_result"
    }
   ],
   "source": [
    "hotels = pd.read_parquet('data/hotels_v3_parquet.gzip')\n",
    "hotels.shape"
   ]
  },
  {
   "cell_type": "code",
   "execution_count": 18,
   "metadata": {},
   "outputs": [
    {
     "data": {
      "text/plain": [
       "hotel_address    0\n",
       "manag            0\n",
       "tram             0\n",
       "wall             0\n",
       "ok               0\n",
       "                ..\n",
       "modern           0\n",
       "metro            0\n",
       "back             0\n",
       "window           0\n",
       "Neighborhood     0\n",
       "Length: 407, dtype: int64"
      ]
     },
     "execution_count": 18,
     "metadata": {},
     "output_type": "execute_result"
    }
   ],
   "source": [
    "hotels = hotels.dropna(axis=0)\n",
    "hotels.isnull().sum().sort_values(ascending=False)\n"
   ]
  },
  {
   "cell_type": "code",
   "execution_count": 51,
   "metadata": {},
   "outputs": [
    {
     "data": {
      "text/plain": [
       "1492"
      ]
     },
     "execution_count": 51,
     "metadata": {},
     "output_type": "execute_result"
    }
   ],
   "source": [
    "# task 4.2\n",
    "hotels['hotel_name'].nunique()"
   ]
  },
  {
   "cell_type": "code",
   "execution_count": 52,
   "metadata": {},
   "outputs": [
    {
     "data": {
      "text/plain": [
       "count                           386803\n",
       "mean     2016-08-13 14:41:18.712936704\n",
       "min                2015-08-04 00:00:00\n",
       "25%                2016-02-23 00:00:00\n",
       "50%                2016-08-15 00:00:00\n",
       "75%                2017-02-09 00:00:00\n",
       "max                2017-08-03 00:00:00\n",
       "Name: review_date, dtype: object"
      ]
     },
     "execution_count": 52,
     "metadata": {},
     "output_type": "execute_result"
    }
   ],
   "source": [
    "# task 4.3\n",
    "hotels['review_date'].describe()"
   ]
  },
  {
   "cell_type": "code",
   "execution_count": 53,
   "metadata": {},
   "outputs": [
    {
     "data": {
      "text/plain": [
       "2368"
      ]
     },
     "execution_count": 53,
     "metadata": {},
     "output_type": "execute_result"
    }
   ],
   "source": [
    "# task 4.4\n",
    "hotels['tags'].explode().nunique()"
   ]
  },
  {
   "cell_type": "code",
   "execution_count": 54,
   "metadata": {},
   "outputs": [
    {
     "data": {
      "text/plain": [
       "tags\n",
       "Leisure trip                         313593\n",
       "Submitted from a mobile device       230778\n",
       "Couple                               189212\n",
       "Stayed 1 night                       145373\n",
       "Stayed 2 nights                      100263\n",
       "                                      ...  \n",
       "Studio with Spa Access                    1\n",
       "Comfort Family Room                       1\n",
       "Junior Suite Free Wifi                    1\n",
       "Design Suite                              1\n",
       "Executive Double Room Non Smoking         1\n",
       "Name: count, Length: 2368, dtype: int64"
      ]
     },
     "execution_count": 54,
     "metadata": {},
     "output_type": "execute_result"
    }
   ],
   "source": [
    "# task 4.5\n",
    "hotels['tags'].explode().str.strip().value_counts()"
   ]
  },
  {
   "cell_type": "code",
   "execution_count": 12,
   "metadata": {},
   "outputs": [
    {
     "name": "stderr",
     "output_type": "stream",
     "text": [
      "C:\\Users\\f999145\\AppData\\Local\\Temp\\ipykernel_16244\\936355434.py:10: UserWarning: This pattern is interpreted as a regular expression, and has match groups. To actually get the groups, use str.extract.\n",
      "  tmp[tmp['tags'].str.contains('(Stayed)', regex=True)].sort_values('count', ascending=False).head(10)\n"
     ]
    },
    {
     "data": {
      "text/html": [
       "<div>\n",
       "<style scoped>\n",
       "    .dataframe tbody tr th:only-of-type {\n",
       "        vertical-align: middle;\n",
       "    }\n",
       "\n",
       "    .dataframe tbody tr th {\n",
       "        vertical-align: top;\n",
       "    }\n",
       "\n",
       "    .dataframe thead th {\n",
       "        text-align: right;\n",
       "    }\n",
       "</style>\n",
       "<table border=\"1\" class=\"dataframe\">\n",
       "  <thead>\n",
       "    <tr style=\"text-align: right;\">\n",
       "      <th></th>\n",
       "      <th>tags</th>\n",
       "      <th>count</th>\n",
       "    </tr>\n",
       "  </thead>\n",
       "  <tbody>\n",
       "    <tr>\n",
       "      <th>3</th>\n",
       "      <td>Stayed 1 night</td>\n",
       "      <td>145373</td>\n",
       "    </tr>\n",
       "    <tr>\n",
       "      <th>4</th>\n",
       "      <td>Stayed 2 nights</td>\n",
       "      <td>100263</td>\n",
       "    </tr>\n",
       "    <tr>\n",
       "      <th>6</th>\n",
       "      <td>Stayed 3 nights</td>\n",
       "      <td>72000</td>\n",
       "    </tr>\n",
       "    <tr>\n",
       "      <th>10</th>\n",
       "      <td>Stayed 4 nights</td>\n",
       "      <td>35748</td>\n",
       "    </tr>\n",
       "    <tr>\n",
       "      <th>17</th>\n",
       "      <td>Stayed 5 nights</td>\n",
       "      <td>15611</td>\n",
       "    </tr>\n",
       "    <tr>\n",
       "      <th>22</th>\n",
       "      <td>Stayed 6 nights</td>\n",
       "      <td>7399</td>\n",
       "    </tr>\n",
       "    <tr>\n",
       "      <th>26</th>\n",
       "      <td>Stayed 7 nights</td>\n",
       "      <td>5549</td>\n",
       "    </tr>\n",
       "    <tr>\n",
       "      <th>53</th>\n",
       "      <td>Stayed 8 nights</td>\n",
       "      <td>1910</td>\n",
       "    </tr>\n",
       "    <tr>\n",
       "      <th>76</th>\n",
       "      <td>Stayed 9 nights</td>\n",
       "      <td>966</td>\n",
       "    </tr>\n",
       "    <tr>\n",
       "      <th>98</th>\n",
       "      <td>Stayed 10 nights</td>\n",
       "      <td>663</td>\n",
       "    </tr>\n",
       "  </tbody>\n",
       "</table>\n",
       "</div>"
      ],
      "text/plain": [
       "                tags   count\n",
       "3     Stayed 1 night  145373\n",
       "4    Stayed 2 nights  100263\n",
       "6    Stayed 3 nights   72000\n",
       "10   Stayed 4 nights   35748\n",
       "17   Stayed 5 nights   15611\n",
       "22   Stayed 6 nights    7399\n",
       "26   Stayed 7 nights    5549\n",
       "53   Stayed 8 nights    1910\n",
       "76   Stayed 9 nights     966\n",
       "98  Stayed 10 nights     663"
      ]
     },
     "execution_count": 12,
     "metadata": {},
     "output_type": "execute_result"
    }
   ],
   "source": [
    "# task 4.6\n",
    "tmp = (\n",
    "            hotels['tags']\n",
    "            .explode()\n",
    "            .str.strip()\n",
    "            .value_counts()\n",
    "            .reset_index()\n",
    "        )\n",
    "            \n",
    "tmp[tmp['tags'].str.contains('(Stayed)', regex=True)].sort_values('count', ascending=False).head(10)"
   ]
  },
  {
   "cell_type": "code",
   "execution_count": 31,
   "metadata": {},
   "outputs": [],
   "source": [
    "test = hotels.copy()\n",
    "test = test.drop(columns=['hotel_address', 'negative_review', 'tags', 'positive_review'])\n",
    "for col in test.select_dtypes('category').columns:\n",
    "    test[col] = test[col].cat.codes\n",
    "\n",
    "test = test.fillna(0)"
   ]
  },
  {
   "cell_type": "code",
   "execution_count": 32,
   "metadata": {},
   "outputs": [],
   "source": [
    "corr_mat = test.corr().stack().reset_index(name=\"correlation\")\n",
    "corr_mat['correlation_abs'] = corr_mat['correlation'].abs()\n",
    "# sns.set_style(\"ticks\",{'axes.grid' : True})\n",
    "# g = sns.relplot(\n",
    "#                 data=corr_mat,\n",
    "#                 x=\"level_0\",\n",
    "#                 y=\"level_1\",\n",
    "#                 hue=\"correlation\",\n",
    "#                 size=\"correlation2\",\n",
    "#                 height=7,\n",
    "#                 aspect=1.5,\n",
    "#                 palette=\"vlag\",\n",
    "#                 edgecolor=\".8\",\n",
    "#                 # sizes=(50, 250),\n",
    "#                 # size_norm=(-.2, .8),\n",
    "#                 # dashes=True\n",
    "#                 )\n",
    "# g.set(xlabel=\"\", ylabel=\"\")\n",
    "# g.despine(left=True, bottom=True)\n",
    "# g.ax.margins(.02)\n",
    "# for label in g.ax.get_xticklabels():\n",
    "#     label.set_rotation(90)"
   ]
  },
  {
   "cell_type": "code",
   "execution_count": 33,
   "metadata": {},
   "outputs": [
    {
     "data": {
      "text/html": [
       "<div>\n",
       "<style scoped>\n",
       "    .dataframe tbody tr th:only-of-type {\n",
       "        vertical-align: middle;\n",
       "    }\n",
       "\n",
       "    .dataframe tbody tr th {\n",
       "        vertical-align: top;\n",
       "    }\n",
       "\n",
       "    .dataframe thead th {\n",
       "        text-align: right;\n",
       "    }\n",
       "</style>\n",
       "<table border=\"1\" class=\"dataframe\">\n",
       "  <thead>\n",
       "    <tr style=\"text-align: right;\">\n",
       "      <th></th>\n",
       "      <th>level_0</th>\n",
       "      <th>level_1</th>\n",
       "      <th>correlation</th>\n",
       "      <th>correlation_abs</th>\n",
       "    </tr>\n",
       "  </thead>\n",
       "  <tbody>\n",
       "    <tr>\n",
       "      <th>6</th>\n",
       "      <td>additional_number_of_scoring</td>\n",
       "      <td>total_number_of_reviews</td>\n",
       "      <td>0.824467</td>\n",
       "      <td>0.824467</td>\n",
       "    </tr>\n",
       "    <tr>\n",
       "      <th>393</th>\n",
       "      <td>review_date</td>\n",
       "      <td>days_since_review</td>\n",
       "      <td>-1.000000</td>\n",
       "      <td>1.000000</td>\n",
       "    </tr>\n",
       "    <tr>\n",
       "      <th>2298</th>\n",
       "      <td>total_number_of_reviews</td>\n",
       "      <td>additional_number_of_scoring</td>\n",
       "      <td>0.824467</td>\n",
       "      <td>0.824467</td>\n",
       "    </tr>\n",
       "    <tr>\n",
       "      <th>3831</th>\n",
       "      <td>days_since_review</td>\n",
       "      <td>review_date</td>\n",
       "      <td>-1.000000</td>\n",
       "      <td>1.000000</td>\n",
       "    </tr>\n",
       "    <tr>\n",
       "      <th>4999</th>\n",
       "      <td>Leisure trip</td>\n",
       "      <td>Business trip</td>\n",
       "      <td>-0.904145</td>\n",
       "      <td>0.904145</td>\n",
       "    </tr>\n",
       "    <tr>\n",
       "      <th>7673</th>\n",
       "      <td>Business trip</td>\n",
       "      <td>Leisure trip</td>\n",
       "      <td>-0.904145</td>\n",
       "      <td>0.904145</td>\n",
       "    </tr>\n",
       "  </tbody>\n",
       "</table>\n",
       "</div>"
      ],
      "text/plain": [
       "                           level_0                       level_1  correlation  \\\n",
       "6     additional_number_of_scoring       total_number_of_reviews     0.824467   \n",
       "393                    review_date             days_since_review    -1.000000   \n",
       "2298       total_number_of_reviews  additional_number_of_scoring     0.824467   \n",
       "3831             days_since_review                   review_date    -1.000000   \n",
       "4999                  Leisure trip                 Business trip    -0.904145   \n",
       "7673                 Business trip                  Leisure trip    -0.904145   \n",
       "\n",
       "      correlation_abs  \n",
       "6            0.824467  \n",
       "393          1.000000  \n",
       "2298         0.824467  \n",
       "3831         1.000000  \n",
       "4999         0.904145  \n",
       "7673         0.904145  "
      ]
     },
     "execution_count": 33,
     "metadata": {},
     "output_type": "execute_result"
    }
   ],
   "source": [
    "corr_mat.query('(correlation_abs > 0.7) & (level_0 != level_1)')"
   ]
  },
  {
   "cell_type": "code",
   "execution_count": 34,
   "metadata": {},
   "outputs": [
    {
     "data": {
      "text/html": [
       "<div>\n",
       "<style scoped>\n",
       "    .dataframe tbody tr th:only-of-type {\n",
       "        vertical-align: middle;\n",
       "    }\n",
       "\n",
       "    .dataframe tbody tr th {\n",
       "        vertical-align: top;\n",
       "    }\n",
       "\n",
       "    .dataframe thead th {\n",
       "        text-align: right;\n",
       "    }\n",
       "</style>\n",
       "<table border=\"1\" class=\"dataframe\">\n",
       "  <thead>\n",
       "    <tr style=\"text-align: right;\">\n",
       "      <th></th>\n",
       "      <th>level_0</th>\n",
       "      <th>level_1</th>\n",
       "      <th>correlation</th>\n",
       "      <th>correlation_abs</th>\n",
       "    </tr>\n",
       "  </thead>\n",
       "  <tbody>\n",
       "    <tr>\n",
       "      <th>4997</th>\n",
       "      <td>Leisure trip</td>\n",
       "      <td>Solo traveler</td>\n",
       "      <td>-0.509337</td>\n",
       "      <td>0.509337</td>\n",
       "    </tr>\n",
       "    <tr>\n",
       "      <th>5763</th>\n",
       "      <td>Couple</td>\n",
       "      <td>Solo traveler</td>\n",
       "      <td>-0.504555</td>\n",
       "      <td>0.504555</td>\n",
       "    </tr>\n",
       "    <tr>\n",
       "      <th>6907</th>\n",
       "      <td>Solo traveler</td>\n",
       "      <td>Leisure trip</td>\n",
       "      <td>-0.509337</td>\n",
       "      <td>0.509337</td>\n",
       "    </tr>\n",
       "    <tr>\n",
       "      <th>6909</th>\n",
       "      <td>Solo traveler</td>\n",
       "      <td>Couple</td>\n",
       "      <td>-0.504555</td>\n",
       "      <td>0.504555</td>\n",
       "    </tr>\n",
       "    <tr>\n",
       "      <th>6914</th>\n",
       "      <td>Solo traveler</td>\n",
       "      <td>Business trip</td>\n",
       "      <td>0.528590</td>\n",
       "      <td>0.528590</td>\n",
       "    </tr>\n",
       "    <tr>\n",
       "      <th>7678</th>\n",
       "      <td>Business trip</td>\n",
       "      <td>Solo traveler</td>\n",
       "      <td>0.528590</td>\n",
       "      <td>0.528590</td>\n",
       "    </tr>\n",
       "    <tr>\n",
       "      <th>41903</th>\n",
       "      <td>coffe</td>\n",
       "      <td>tea</td>\n",
       "      <td>0.508329</td>\n",
       "      <td>0.508329</td>\n",
       "    </tr>\n",
       "    <tr>\n",
       "      <th>53474</th>\n",
       "      <td>air</td>\n",
       "      <td>condit</td>\n",
       "      <td>0.671162</td>\n",
       "      <td>0.671162</td>\n",
       "    </tr>\n",
       "    <tr>\n",
       "      <th>56841</th>\n",
       "      <td>money</td>\n",
       "      <td>valu</td>\n",
       "      <td>0.616421</td>\n",
       "      <td>0.616421</td>\n",
       "    </tr>\n",
       "    <tr>\n",
       "      <th>59857</th>\n",
       "      <td>tea</td>\n",
       "      <td>coffe</td>\n",
       "      <td>0.508329</td>\n",
       "      <td>0.508329</td>\n",
       "    </tr>\n",
       "    <tr>\n",
       "      <th>60279</th>\n",
       "      <td>valu</td>\n",
       "      <td>money</td>\n",
       "      <td>0.616421</td>\n",
       "      <td>0.616421</td>\n",
       "    </tr>\n",
       "    <tr>\n",
       "      <th>64159</th>\n",
       "      <td>front</td>\n",
       "      <td>desk</td>\n",
       "      <td>0.538275</td>\n",
       "      <td>0.538275</td>\n",
       "    </tr>\n",
       "    <tr>\n",
       "      <th>76001</th>\n",
       "      <td>desk</td>\n",
       "      <td>front</td>\n",
       "      <td>0.538275</td>\n",
       "      <td>0.538275</td>\n",
       "    </tr>\n",
       "    <tr>\n",
       "      <th>90910</th>\n",
       "      <td>condit</td>\n",
       "      <td>air</td>\n",
       "      <td>0.671162</td>\n",
       "      <td>0.671162</td>\n",
       "    </tr>\n",
       "    <tr>\n",
       "      <th>109512</th>\n",
       "      <td>transport</td>\n",
       "      <td>public</td>\n",
       "      <td>0.563689</td>\n",
       "      <td>0.563689</td>\n",
       "    </tr>\n",
       "    <tr>\n",
       "      <th>137016</th>\n",
       "      <td>public</td>\n",
       "      <td>transport</td>\n",
       "      <td>0.563689</td>\n",
       "      <td>0.563689</td>\n",
       "    </tr>\n",
       "    <tr>\n",
       "      <th>145921</th>\n",
       "      <td>country</td>\n",
       "      <td>city</td>\n",
       "      <td>-0.556365</td>\n",
       "      <td>0.556365</td>\n",
       "    </tr>\n",
       "    <tr>\n",
       "      <th>146303</th>\n",
       "      <td>city</td>\n",
       "      <td>country</td>\n",
       "      <td>-0.556365</td>\n",
       "      <td>0.556365</td>\n",
       "    </tr>\n",
       "  </tbody>\n",
       "</table>\n",
       "</div>"
      ],
      "text/plain": [
       "              level_0        level_1  correlation  correlation_abs\n",
       "4997     Leisure trip  Solo traveler    -0.509337         0.509337\n",
       "5763           Couple  Solo traveler    -0.504555         0.504555\n",
       "6907    Solo traveler   Leisure trip    -0.509337         0.509337\n",
       "6909    Solo traveler         Couple    -0.504555         0.504555\n",
       "6914    Solo traveler  Business trip     0.528590         0.528590\n",
       "7678    Business trip  Solo traveler     0.528590         0.528590\n",
       "41903           coffe            tea     0.508329         0.508329\n",
       "53474             air         condit     0.671162         0.671162\n",
       "56841           money           valu     0.616421         0.616421\n",
       "59857             tea          coffe     0.508329         0.508329\n",
       "60279            valu          money     0.616421         0.616421\n",
       "64159           front           desk     0.538275         0.538275\n",
       "76001            desk          front     0.538275         0.538275\n",
       "90910          condit            air     0.671162         0.671162\n",
       "109512      transport         public     0.563689         0.563689\n",
       "137016         public      transport     0.563689         0.563689\n",
       "145921        country           city    -0.556365         0.556365\n",
       "146303           city        country    -0.556365         0.556365"
      ]
     },
     "execution_count": 34,
     "metadata": {},
     "output_type": "execute_result"
    }
   ],
   "source": [
    "corr_mat.query('correlation_abs > 0.5 & correlation_abs <= 0.7')"
   ]
  },
  {
   "cell_type": "code",
   "execution_count": 35,
   "metadata": {},
   "outputs": [
    {
     "name": "stdout",
     "output_type": "stream",
     "text": [
      "<class 'pandas.core.frame.DataFrame'>\n",
      "RangeIndex: 386803 entries, 0 to 386802\n",
      "Columns: 365 entries, average_score to Neighborhood\n",
      "dtypes: Float32(4), UInt16(5), bool(351), int16(3), int8(2)\n",
      "memory usage: 145.3 MB\n"
     ]
    }
   ],
   "source": [
    "drop_col = ['additional_number_of_scoring', 'review_date', 'Business trip', 'valu', 'Standard Double or Twin Room', 'Classic Double or Twin Room', 'close', 'back', 'qualiti', 'best', 'high', 'london', 'friend', 'Twin Room', 'stop', 'floor', 'use', 'made']\n",
    "test = test.drop(columns=drop_col, errors='ignore')\n",
    "test.info()"
   ]
  },
  {
   "cell_type": "markdown",
   "metadata": {},
   "source": [
    "# 4. Final"
   ]
  },
  {
   "cell_type": "code",
   "execution_count": 36,
   "metadata": {},
   "outputs": [],
   "source": [
    "# Загружаем специальный инструмент для разбивки:  \n",
    "from sklearn.model_selection import train_test_split\n",
    "# Импортируем необходимые библиотеки:  \n",
    "from sklearn.ensemble import RandomForestRegressor # инструмент для создания и обучения модели  \n",
    "from sklearn import metrics # инструменты для оценки точности модели  "
   ]
  },
  {
   "cell_type": "code",
   "execution_count": 37,
   "metadata": {},
   "outputs": [],
   "source": [
    "# Разбиваем датафрейм на части, необходимые для обучения и тестирования модели  \n",
    "# Х - данные с информацией об отелях, у - целевая переменная (рейтинги отелей)  \n",
    "X = test.drop(['reviewer_score'], axis = 1)  \n",
    "y = test['reviewer_score'] "
   ]
  },
  {
   "cell_type": "code",
   "execution_count": 38,
   "metadata": {},
   "outputs": [],
   "source": [
    "# Наборы данных с меткой \"train\" будут использоваться для обучения модели, \"test\" - для тестирования.  \n",
    "# Для тестирования мы будем использовать 25% от исходного датасета.  \n",
    "X_train, X_test, y_train, y_test = train_test_split(X, y, test_size=0.25, random_state=42)"
   ]
  },
  {
   "cell_type": "code",
   "execution_count": 39,
   "metadata": {},
   "outputs": [],
   "source": [
    "# Создаём модель  \n",
    "regr = RandomForestRegressor(n_estimators=100)  \n",
    "      \n",
    "# Обучаем модель на тестовом наборе данных  \n",
    "regr.fit(X_train, y_train)  \n",
    "      \n",
    "# Используем обученную модель для предсказания рейтинга отелей в тестовой выборке.  \n",
    "# Предсказанные значения записываем в переменную y_pred  \n",
    "y_pred = regr.predict(X_test)  "
   ]
  },
  {
   "cell_type": "code",
   "execution_count": 40,
   "metadata": {},
   "outputs": [
    {
     "name": "stdout",
     "output_type": "stream",
     "text": [
      "MAPE: 0.12431063138028595\n"
     ]
    }
   ],
   "source": [
    "# Сравниваем предсказанные значения (y_pred) с реальными (y_test), и смотрим насколько они отличаются  \n",
    "# Метрика называется Mean Absolute Percentage Error (MAPE) и показывает среднюю абсолютную процентную ошибку предсказанных значений от фактических.  \n",
    "print('MAPE:', metrics.mean_absolute_percentage_error(y_test, y_pred))"
   ]
  }
 ],
 "metadata": {
  "kernelspec": {
   "display_name": "Python 3 (ipykernel)",
   "language": "python",
   "name": "python3"
  },
  "language_info": {
   "codemirror_mode": {
    "name": "ipython",
    "version": 3
   },
   "file_extension": ".py",
   "mimetype": "text/x-python",
   "name": "python",
   "nbconvert_exporter": "python",
   "pygments_lexer": "ipython3",
   "version": "3.11.6"
  }
 },
 "nbformat": 4,
 "nbformat_minor": 4
}
