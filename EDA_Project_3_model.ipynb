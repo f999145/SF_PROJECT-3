{
 "cells": [
  {
   "cell_type": "markdown",
   "metadata": {},
   "source": [
    "# 0 Begin chapter"
   ]
  },
  {
   "cell_type": "markdown",
   "metadata": {},
   "source": [
    "## 0.1. install"
   ]
  },
  {
   "cell_type": "code",
   "execution_count": 12,
   "metadata": {},
   "outputs": [
    {
     "name": "stdout",
     "output_type": "stream",
     "text": [
      "Requirement already satisfied: pandas in c:\\users\\f999145\\appdata\\local\\programs\\python\\python311\\lib\\site-packages (2.0.2)\n",
      "Requirement already satisfied: pyarrow in c:\\users\\f999145\\appdata\\local\\programs\\python\\python311\\lib\\site-packages (12.0.1)\n",
      "Collecting nltk\n",
      "  Downloading nltk-3.8.1-py3-none-any.whl (1.5 MB)\n",
      "     ---------------------------------------- 0.0/1.5 MB ? eta -:--:--\n",
      "      --------------------------------------- 0.0/1.5 MB 320.0 kB/s eta 0:00:05\n",
      "     - -------------------------------------- 0.1/1.5 MB 648.1 kB/s eta 0:00:03\n",
      "     ------ --------------------------------- 0.3/1.5 MB 2.0 MB/s eta 0:00:01\n",
      "     ------------------------ --------------- 0.9/1.5 MB 5.4 MB/s eta 0:00:01\n",
      "     ---------------------------------------- 1.5/1.5 MB 7.4 MB/s eta 0:00:00\n",
      "Requirement already satisfied: python-dateutil>=2.8.2 in c:\\users\\f999145\\appdata\\roaming\\python\\python311\\site-packages (from pandas) (2.8.2)\n",
      "Requirement already satisfied: pytz>=2020.1 in c:\\users\\f999145\\appdata\\local\\programs\\python\\python311\\lib\\site-packages (from pandas) (2023.3)\n",
      "Requirement already satisfied: tzdata>=2022.1 in c:\\users\\f999145\\appdata\\local\\programs\\python\\python311\\lib\\site-packages (from pandas) (2023.3)\n",
      "Requirement already satisfied: numpy>=1.21.0 in c:\\users\\f999145\\appdata\\local\\programs\\python\\python311\\lib\\site-packages (from pandas) (1.24.3)\n",
      "Requirement already satisfied: click in c:\\users\\f999145\\appdata\\local\\programs\\python\\python311\\lib\\site-packages (from nltk) (8.1.3)\n",
      "Requirement already satisfied: joblib in c:\\users\\f999145\\appdata\\local\\programs\\python\\python311\\lib\\site-packages (from nltk) (1.2.0)\n",
      "Collecting regex>=2021.8.3 (from nltk)\n",
      "  Obtaining dependency information for regex>=2021.8.3 from https://files.pythonhosted.org/packages/b8/ad/3398312096118c4e62a5827664e52a04d5068e84d04142dd4a0da8a567ae/regex-2023.10.3-cp311-cp311-win_amd64.whl.metadata\n",
      "  Downloading regex-2023.10.3-cp311-cp311-win_amd64.whl.metadata (41 kB)\n",
      "     ---------------------------------------- 0.0/42.0 kB ? eta -:--:--\n",
      "     ---------------------------------------- 42.0/42.0 kB ? eta 0:00:00\n",
      "Requirement already satisfied: tqdm in c:\\users\\f999145\\appdata\\local\\programs\\python\\python311\\lib\\site-packages (from nltk) (4.65.0)\n",
      "Requirement already satisfied: six>=1.5 in c:\\users\\f999145\\appdata\\roaming\\python\\python311\\site-packages (from python-dateutil>=2.8.2->pandas) (1.16.0)\n",
      "Requirement already satisfied: colorama in c:\\users\\f999145\\appdata\\roaming\\python\\python311\\site-packages (from click->nltk) (0.4.6)\n",
      "Downloading regex-2023.10.3-cp311-cp311-win_amd64.whl (269 kB)\n",
      "   ---------------------------------------- 0.0/269.6 kB ? eta -:--:--\n",
      "   --------------------------------------- 269.6/269.6 kB 17.3 MB/s eta 0:00:00\n",
      "Installing collected packages: regex, nltk\n",
      "Successfully installed nltk-3.8.1 regex-2023.10.3\n"
     ]
    }
   ],
   "source": [
    "!python -m pip install pandas pyarrow nltk"
   ]
  },
  {
   "cell_type": "markdown",
   "metadata": {},
   "source": [
    "## 0.2. Import"
   ]
  },
  {
   "cell_type": "code",
   "execution_count": 1,
   "metadata": {},
   "outputs": [
    {
     "name": "stdout",
     "output_type": "stream",
     "text": [
      "INFO: Pandarallel will run on 16 workers.\n",
      "INFO: Pandarallel will use standard multiprocessing data transfer (pipe) to transfer data between the main process and workers.\n",
      "\n",
      "WARNING: You are on Windows. If you detect any issue with pandarallel, be sure you checked out the Troubleshooting page:\n",
      "https://nalepae.github.io/pandarallel/troubleshooting/\n"
     ]
    }
   ],
   "source": [
    "import pandas as pd\n",
    "import numpy as np\n",
    "import sys\n",
    "import json\n",
    "import string\n",
    "import nltk\n",
    "from nltk.corpus import stopwords\n",
    "from nltk.tokenize import word_tokenize\n",
    "from sklearn.preprocessing import MinMaxScaler\n",
    "\n",
    "from IPython.display import clear_output\n",
    "from tqdm.notebook import tqdm\n",
    "tqdm.pandas()\n",
    "from pandarallel import pandarallel\n",
    "pandarallel.initialize(progress_bar=True)"
   ]
  },
  {
   "cell_type": "code",
   "execution_count": 2,
   "metadata": {},
   "outputs": [
    {
     "data": {
      "text/plain": [
       "'3.11.6 (tags/v3.11.6:8b6ee5b, Oct  2 2023, 14:57:12) [MSC v.1935 64 bit (AMD64)]'"
      ]
     },
     "execution_count": 2,
     "metadata": {},
     "output_type": "execute_result"
    }
   ],
   "source": [
    "sys.version\n",
    "# '3.11.6 (tags/v3.11.6:8b6ee5b, Oct  2 2023, 14:57:12) [MSC v.1935 64 bit (AMD64)]'"
   ]
  },
  {
   "cell_type": "markdown",
   "metadata": {},
   "source": [
    "## 0.3. convert csv to parquet"
   ]
  },
  {
   "cell_type": "code",
   "execution_count": 11,
   "metadata": {},
   "outputs": [],
   "source": [
    "hotels = pd.read_csv('data/hotels.zip')\n",
    "# hotels.to_parquet('data/hotels_parquet.gzip', engine='pyarrow', compression='gzip')"
   ]
  },
  {
   "cell_type": "markdown",
   "metadata": {},
   "source": [
    "## 0.4. Functions"
   ]
  },
  {
   "cell_type": "code",
   "execution_count": 4,
   "metadata": {},
   "outputs": [],
   "source": [
    "def _get_col_names(df: pd.DataFrame, max_row_info: int=8) -> pd.DataFrame:\n",
    "    ostatok = df.shape[1] % max_row_info\n",
    "    col = df.shape[1] // max_row_info\n",
    "    \n",
    "    new_list = list()\n",
    "    for index in range(col if not ostatok else col + 1):\n",
    "        start = index*max_row_info\n",
    "        end = (index + 1)*max_row_info\n",
    "        new_list.append(df.columns[start:end].to_list())\n",
    "    return pd.DataFrame((new_list))"
   ]
  },
  {
   "cell_type": "code",
   "execution_count": 5,
   "metadata": {},
   "outputs": [
    {
     "data": {
      "text/html": [
       "<div>\n",
       "<style scoped>\n",
       "    .dataframe tbody tr th:only-of-type {\n",
       "        vertical-align: middle;\n",
       "    }\n",
       "\n",
       "    .dataframe tbody tr th {\n",
       "        vertical-align: top;\n",
       "    }\n",
       "\n",
       "    .dataframe thead th {\n",
       "        text-align: right;\n",
       "    }\n",
       "</style>\n",
       "<table border=\"1\" class=\"dataframe\">\n",
       "  <thead>\n",
       "    <tr style=\"text-align: right;\">\n",
       "      <th></th>\n",
       "      <th>0</th>\n",
       "      <th>1</th>\n",
       "      <th>2</th>\n",
       "    </tr>\n",
       "  </thead>\n",
       "  <tbody>\n",
       "    <tr>\n",
       "      <th>0</th>\n",
       "      <td>hotel_address</td>\n",
       "      <td>additional_number_of_scoring</td>\n",
       "      <td>review_date</td>\n",
       "    </tr>\n",
       "    <tr>\n",
       "      <th>1</th>\n",
       "      <td>average_score</td>\n",
       "      <td>hotel_name</td>\n",
       "      <td>reviewer_nationality</td>\n",
       "    </tr>\n",
       "    <tr>\n",
       "      <th>2</th>\n",
       "      <td>negative_review</td>\n",
       "      <td>review_total_negative_word_counts</td>\n",
       "      <td>total_number_of_reviews</td>\n",
       "    </tr>\n",
       "    <tr>\n",
       "      <th>3</th>\n",
       "      <td>positive_review</td>\n",
       "      <td>review_total_positive_word_counts</td>\n",
       "      <td>total_number_of_reviews_reviewer_has_given</td>\n",
       "    </tr>\n",
       "    <tr>\n",
       "      <th>4</th>\n",
       "      <td>reviewer_score</td>\n",
       "      <td>tags</td>\n",
       "      <td>days_since_review</td>\n",
       "    </tr>\n",
       "    <tr>\n",
       "      <th>5</th>\n",
       "      <td>lat</td>\n",
       "      <td>lng</td>\n",
       "      <td>None</td>\n",
       "    </tr>\n",
       "  </tbody>\n",
       "</table>\n",
       "</div>"
      ],
      "text/plain": [
       "                 0                                  1  \\\n",
       "0    hotel_address       additional_number_of_scoring   \n",
       "1    average_score                         hotel_name   \n",
       "2  negative_review  review_total_negative_word_counts   \n",
       "3  positive_review  review_total_positive_word_counts   \n",
       "4   reviewer_score                               tags   \n",
       "5              lat                                lng   \n",
       "\n",
       "                                            2  \n",
       "0                                 review_date  \n",
       "1                        reviewer_nationality  \n",
       "2                     total_number_of_reviews  \n",
       "3  total_number_of_reviews_reviewer_has_given  \n",
       "4                           days_since_review  \n",
       "5                                        None  "
      ]
     },
     "execution_count": 5,
     "metadata": {},
     "output_type": "execute_result"
    }
   ],
   "source": [
    "# hotels = pd.read_parquet('data/hotels_parquet.gzip')\n",
    "_get_col_names(hotels,3)"
   ]
  },
  {
   "cell_type": "code",
   "execution_count": 12,
   "metadata": {},
   "outputs": [],
   "source": [
    "hotels = hotels.convert_dtypes()"
   ]
  },
  {
   "cell_type": "code",
   "execution_count": 13,
   "metadata": {},
   "outputs": [
    {
     "name": "stdout",
     "output_type": "stream",
     "text": [
      "<class 'pandas.core.frame.DataFrame'>\n",
      "RangeIndex: 386803 entries, 0 to 386802\n",
      "Data columns (total 17 columns):\n",
      " #   Column                                      Non-Null Count   Dtype  \n",
      "---  ------                                      --------------   -----  \n",
      " 0   hotel_address                               386803 non-null  string \n",
      " 1   additional_number_of_scoring                386803 non-null  Int64  \n",
      " 2   review_date                                 386803 non-null  string \n",
      " 3   average_score                               386803 non-null  Float64\n",
      " 4   hotel_name                                  386803 non-null  string \n",
      " 5   reviewer_nationality                        386803 non-null  string \n",
      " 6   negative_review                             386803 non-null  string \n",
      " 7   review_total_negative_word_counts           386803 non-null  Int64  \n",
      " 8   total_number_of_reviews                     386803 non-null  Int64  \n",
      " 9   positive_review                             386803 non-null  string \n",
      " 10  review_total_positive_word_counts           386803 non-null  Int64  \n",
      " 11  total_number_of_reviews_reviewer_has_given  386803 non-null  Int64  \n",
      " 12  reviewer_score                              386803 non-null  Float64\n",
      " 13  tags                                        386803 non-null  string \n",
      " 14  days_since_review                           386803 non-null  string \n",
      " 15  lat                                         384355 non-null  Float64\n",
      " 16  lng                                         384355 non-null  Float64\n",
      "dtypes: Float64(4), Int64(5), string(8)\n",
      "memory usage: 53.5 MB\n"
     ]
    }
   ],
   "source": [
    "hotels.info()"
   ]
  },
  {
   "attachments": {},
   "cell_type": "markdown",
   "metadata": {},
   "source": [
    "---\n",
    "- hotel_address — адрес отеля;\n",
    "- review_date — дата, когда рецензент разместил соответствующий отзыв;\n",
    "- average_score — средний балл отеля, рассчитанный на основе последнего комментария за последний год;\n",
    "- hotel_name — название отеля;\n",
    "- reviewer_nationality — страна рецензента;\n",
    "- negative_review — отрицательный отзыв, который рецензент дал отелю;\n",
    "- review_total_negative_word_counts — общее количество слов в отрицательном отзыв;\n",
    "- positive_review — положительный отзыв, который рецензент дал отелю;\n",
    "- review_total_positive_word_counts — общее количество слов в положительном отзыве.\n",
    "- reviewer_score — оценка, которую рецензент поставил отелю на основе своего опыта;\n",
    "- total_number_of_reviews_reviewer_has_given — количество отзывов, которые рецензенты дали в прошлом;\n",
    "- total_number_of_reviews — общее количество действительных отзывов об отеле;\n",
    "- tags — теги, которые рецензент дал отелю;\n",
    "- days_since_review — количество дней между датой проверки и датой очистки;\n",
    "- additional_number_of_scoring — есть также некоторые гости, которые просто поставили оценку сервису, но не оставили отзыв. Это число указывает, сколько там действительных оценок без проверки.\n",
    "- lat — географическая широта отеля;\n",
    "- lng — географическая долгота отеля.\n",
    "---"
   ]
  },
  {
   "attachments": {},
   "cell_type": "markdown",
   "metadata": {},
   "source": [
    "# 1 Исследование данных"
   ]
  },
  {
   "cell_type": "markdown",
   "metadata": {},
   "source": [
    "## 1.1. Отделение Категориальных признаков"
   ]
  },
  {
   "cell_type": "code",
   "execution_count": 14,
   "metadata": {},
   "outputs": [
    {
     "name": "stdout",
     "output_type": "stream",
     "text": [
      "cat_cols: 15; other_cols: 2\n"
     ]
    }
   ],
   "source": [
    "resolution = hotels.shape[0]\n",
    "tmp_cols = (\n",
    "            hotels\n",
    "            .nunique()\n",
    "            .sort_values(ascending=False)\n",
    "            .to_frame(name='count')\n",
    "            .assign(frec=lambda x: round(100*x['count']/resolution).astype('UInt8'))\n",
    "            )\n",
    "\n",
    "cat_cols = (\n",
    "            tmp_cols\n",
    "            .query('frec < 20')\n",
    "            .index\n",
    "            .to_list()\n",
    "            )\n",
    "\n",
    "other_cols = (\n",
    "                tmp_cols\n",
    "                .query('frec >= 20')\n",
    "                .index\n",
    "                .to_list()\n",
    "                )\n",
    "\n",
    "print(f'cat_cols: {len(cat_cols)}; other_cols: {len(other_cols)}')\n"
   ]
  },
  {
   "cell_type": "markdown",
   "metadata": {},
   "source": [
    "## 1.2. Преобразование Категориальных признаков"
   ]
  },
  {
   "cell_type": "markdown",
   "metadata": {},
   "source": [
    "### 1.2.1. Преобразование типов Object"
   ]
  },
  {
   "cell_type": "code",
   "execution_count": 15,
   "metadata": {},
   "outputs": [
    {
     "data": {
      "text/html": [
       "<div>\n",
       "<style scoped>\n",
       "    .dataframe tbody tr th:only-of-type {\n",
       "        vertical-align: middle;\n",
       "    }\n",
       "\n",
       "    .dataframe tbody tr th {\n",
       "        vertical-align: top;\n",
       "    }\n",
       "\n",
       "    .dataframe thead th {\n",
       "        text-align: right;\n",
       "    }\n",
       "</style>\n",
       "<table border=\"1\" class=\"dataframe\">\n",
       "  <thead>\n",
       "    <tr style=\"text-align: right;\">\n",
       "      <th></th>\n",
       "      <th>tags</th>\n",
       "      <th>hotel_address</th>\n",
       "      <th>hotel_name</th>\n",
       "      <th>days_since_review</th>\n",
       "      <th>review_date</th>\n",
       "      <th>reviewer_nationality</th>\n",
       "    </tr>\n",
       "  </thead>\n",
       "  <tbody>\n",
       "    <tr>\n",
       "      <th>0</th>\n",
       "      <td>[' Leisure trip ', ' Couple ', ' Studio Suite ...</td>\n",
       "      <td>Stratton Street Mayfair Westminster Borough Lo...</td>\n",
       "      <td>The May Fair Hotel</td>\n",
       "      <td>531 day</td>\n",
       "      <td>2/19/2016</td>\n",
       "      <td>United Kingdom</td>\n",
       "    </tr>\n",
       "    <tr>\n",
       "      <th>1</th>\n",
       "      <td>[' Business trip ', ' Couple ', ' Standard Dou...</td>\n",
       "      <td>130 134 Southampton Row Camden London WC1B 5AF...</td>\n",
       "      <td>Mercure London Bloomsbury Hotel</td>\n",
       "      <td>203 day</td>\n",
       "      <td>1/12/2017</td>\n",
       "      <td>United Kingdom</td>\n",
       "    </tr>\n",
       "    <tr>\n",
       "      <th>2</th>\n",
       "      <td>[' Leisure trip ', ' Solo traveler ', ' Modern...</td>\n",
       "      <td>151 bis Rue de Rennes 6th arr 75006 Paris France</td>\n",
       "      <td>Legend Saint Germain by Elegancia</td>\n",
       "      <td>289 day</td>\n",
       "      <td>10/18/2016</td>\n",
       "      <td>China</td>\n",
       "    </tr>\n",
       "    <tr>\n",
       "      <th>3</th>\n",
       "      <td>[' Leisure trip ', ' Solo traveler ', ' Standa...</td>\n",
       "      <td>216 Avenue Jean Jaures 19th arr 75019 Paris Fr...</td>\n",
       "      <td>Mercure Paris 19 Philharmonie La Villette</td>\n",
       "      <td>681 day</td>\n",
       "      <td>9/22/2015</td>\n",
       "      <td>United Kingdom</td>\n",
       "    </tr>\n",
       "    <tr>\n",
       "      <th>4</th>\n",
       "      <td>[' Business trip ', ' Couple ', ' Standard Dou...</td>\n",
       "      <td>Molenwerf 1 1014 AG Amsterdam Netherlands</td>\n",
       "      <td>Golden Tulip Amsterdam West</td>\n",
       "      <td>516 day</td>\n",
       "      <td>3/5/2016</td>\n",
       "      <td>Poland</td>\n",
       "    </tr>\n",
       "  </tbody>\n",
       "</table>\n",
       "</div>"
      ],
      "text/plain": [
       "                                                tags  \\\n",
       "0  [' Leisure trip ', ' Couple ', ' Studio Suite ...   \n",
       "1  [' Business trip ', ' Couple ', ' Standard Dou...   \n",
       "2  [' Leisure trip ', ' Solo traveler ', ' Modern...   \n",
       "3  [' Leisure trip ', ' Solo traveler ', ' Standa...   \n",
       "4  [' Business trip ', ' Couple ', ' Standard Dou...   \n",
       "\n",
       "                                       hotel_address  \\\n",
       "0  Stratton Street Mayfair Westminster Borough Lo...   \n",
       "1  130 134 Southampton Row Camden London WC1B 5AF...   \n",
       "2   151 bis Rue de Rennes 6th arr 75006 Paris France   \n",
       "3  216 Avenue Jean Jaures 19th arr 75019 Paris Fr...   \n",
       "4          Molenwerf 1 1014 AG Amsterdam Netherlands   \n",
       "\n",
       "                                  hotel_name days_since_review review_date  \\\n",
       "0                         The May Fair Hotel           531 day   2/19/2016   \n",
       "1            Mercure London Bloomsbury Hotel           203 day   1/12/2017   \n",
       "2          Legend Saint Germain by Elegancia           289 day  10/18/2016   \n",
       "3  Mercure Paris 19 Philharmonie La Villette           681 day   9/22/2015   \n",
       "4                Golden Tulip Amsterdam West           516 day    3/5/2016   \n",
       "\n",
       "  reviewer_nationality  \n",
       "0      United Kingdom   \n",
       "1      United Kingdom   \n",
       "2               China   \n",
       "3      United Kingdom   \n",
       "4              Poland   "
      ]
     },
     "execution_count": 15,
     "metadata": {},
     "output_type": "execute_result"
    }
   ],
   "source": [
    "object_cols = hotels[cat_cols].select_dtypes(include='string').columns.to_list()\n",
    "# other_cat_cols = [x for x in cat_cols if x not in object_cols]\n",
    "other_cat_cols = list(filter(lambda x: x not in object_cols, cat_cols))\n",
    "\n",
    "hotels[object_cols].head()"
   ]
  },
  {
   "cell_type": "code",
   "execution_count": 16,
   "metadata": {},
   "outputs": [],
   "source": [
    "# Преобразование столбца \"tags\"\n",
    "hotels['tags'] = hotels['tags'].str.replace('\\'','\\\"' ).apply(lambda x: json.loads(x))\n",
    "\n",
    "# Преобразование признака \"days_since_review\"\n",
    "hotels['days_since_review'] = hotels['days_since_review'].str.extract('(\\d+) day', expand=False).astype('UInt16')\n",
    "\n",
    "# Преобразование признака \"review_date\"\n",
    "hotels['review_date'] = pd.to_datetime(hotels['review_date'], format='%d/%M/%Y').max()\n",
    "\n",
    "# Преобразование признака  \"reviewer_nationality\"\n",
    "hotels['hotel_name'] = hotels['hotel_name'].str.strip().replace('', np.nan)\n",
    "category_order_list = sorted([x for x in hotels['hotel_name'].unique() if not pd.isnull(x)])\n",
    "hotels['hotel_name'] = hotels['hotel_name'].astype('category').cat.set_categories(category_order_list, ordered=True)\n",
    "\n",
    "# Преобразование признака  \"reviewer_nationality\"\n",
    "hotels['reviewer_nationality'] = hotels['reviewer_nationality'].str.strip().replace('', np.nan)\n",
    "category_order_list = sorted([x for x in hotels['reviewer_nationality'].unique() if not pd.isnull(x)])\n",
    "hotels['reviewer_nationality'] = hotels['reviewer_nationality'].astype('category').cat.set_categories(category_order_list, ordered=True)\n",
    "\n",
    "# Преобразование признака \"hotel_address\"\n",
    "hotels['hotel_address'] = hotels['hotel_address'].astype('string')"
   ]
  },
  {
   "cell_type": "markdown",
   "metadata": {},
   "source": [
    "### 1.2.2. Преобразование типов других типов"
   ]
  },
  {
   "cell_type": "code",
   "execution_count": 17,
   "metadata": {},
   "outputs": [
    {
     "data": {
      "text/html": [
       "<div>\n",
       "<style scoped>\n",
       "    .dataframe tbody tr th:only-of-type {\n",
       "        vertical-align: middle;\n",
       "    }\n",
       "\n",
       "    .dataframe tbody tr th {\n",
       "        vertical-align: top;\n",
       "    }\n",
       "\n",
       "    .dataframe thead th {\n",
       "        text-align: right;\n",
       "    }\n",
       "</style>\n",
       "<table border=\"1\" class=\"dataframe\">\n",
       "  <thead>\n",
       "    <tr style=\"text-align: right;\">\n",
       "      <th></th>\n",
       "      <th>lat</th>\n",
       "      <th>lng</th>\n",
       "      <th>total_number_of_reviews</th>\n",
       "      <th>additional_number_of_scoring</th>\n",
       "      <th>review_total_negative_word_counts</th>\n",
       "      <th>review_total_positive_word_counts</th>\n",
       "      <th>total_number_of_reviews_reviewer_has_given</th>\n",
       "      <th>reviewer_score</th>\n",
       "      <th>average_score</th>\n",
       "    </tr>\n",
       "  </thead>\n",
       "  <tbody>\n",
       "    <tr>\n",
       "      <th>0</th>\n",
       "      <td>51.507894</td>\n",
       "      <td>-0.143671</td>\n",
       "      <td>1994</td>\n",
       "      <td>581</td>\n",
       "      <td>3</td>\n",
       "      <td>4</td>\n",
       "      <td>7</td>\n",
       "      <td>10.0</td>\n",
       "      <td>8.4</td>\n",
       "    </tr>\n",
       "    <tr>\n",
       "      <th>1</th>\n",
       "      <td>51.521009</td>\n",
       "      <td>-0.123097</td>\n",
       "      <td>1361</td>\n",
       "      <td>299</td>\n",
       "      <td>3</td>\n",
       "      <td>2</td>\n",
       "      <td>14</td>\n",
       "      <td>6.3</td>\n",
       "      <td>8.3</td>\n",
       "    </tr>\n",
       "    <tr>\n",
       "      <th>2</th>\n",
       "      <td>48.845377</td>\n",
       "      <td>2.325643</td>\n",
       "      <td>406</td>\n",
       "      <td>32</td>\n",
       "      <td>6</td>\n",
       "      <td>0</td>\n",
       "      <td>14</td>\n",
       "      <td>7.5</td>\n",
       "      <td>8.9</td>\n",
       "    </tr>\n",
       "    <tr>\n",
       "      <th>3</th>\n",
       "      <td>48.888697</td>\n",
       "      <td>2.39454</td>\n",
       "      <td>607</td>\n",
       "      <td>34</td>\n",
       "      <td>0</td>\n",
       "      <td>11</td>\n",
       "      <td>8</td>\n",
       "      <td>10.0</td>\n",
       "      <td>7.5</td>\n",
       "    </tr>\n",
       "    <tr>\n",
       "      <th>4</th>\n",
       "      <td>52.385601</td>\n",
       "      <td>4.84706</td>\n",
       "      <td>7586</td>\n",
       "      <td>914</td>\n",
       "      <td>4</td>\n",
       "      <td>20</td>\n",
       "      <td>10</td>\n",
       "      <td>9.6</td>\n",
       "      <td>8.5</td>\n",
       "    </tr>\n",
       "  </tbody>\n",
       "</table>\n",
       "</div>"
      ],
      "text/plain": [
       "         lat       lng  total_number_of_reviews  additional_number_of_scoring  \\\n",
       "0  51.507894 -0.143671                     1994                           581   \n",
       "1  51.521009 -0.123097                     1361                           299   \n",
       "2  48.845377  2.325643                      406                            32   \n",
       "3  48.888697   2.39454                      607                            34   \n",
       "4  52.385601   4.84706                     7586                           914   \n",
       "\n",
       "   review_total_negative_word_counts  review_total_positive_word_counts  \\\n",
       "0                                  3                                  4   \n",
       "1                                  3                                  2   \n",
       "2                                  6                                  0   \n",
       "3                                  0                                 11   \n",
       "4                                  4                                 20   \n",
       "\n",
       "   total_number_of_reviews_reviewer_has_given  reviewer_score  average_score  \n",
       "0                                           7            10.0            8.4  \n",
       "1                                          14             6.3            8.3  \n",
       "2                                          14             7.5            8.9  \n",
       "3                                           8            10.0            7.5  \n",
       "4                                          10             9.6            8.5  "
      ]
     },
     "execution_count": 17,
     "metadata": {},
     "output_type": "execute_result"
    }
   ],
   "source": [
    "hotels[other_cat_cols].head()"
   ]
  },
  {
   "cell_type": "code",
   "execution_count": 18,
   "metadata": {},
   "outputs": [],
   "source": [
    "hotels['lat'] = hotels['lat'].astype('Float32')\n",
    "hotels['lng'] = hotels['lng'].astype('Float32')\n",
    "hotels['total_number_of_reviews'] = hotels['total_number_of_reviews'].astype('UInt16')\n",
    "hotels['additional_number_of_scoring'] = hotels['additional_number_of_scoring'].astype('UInt16')\n",
    "hotels['review_total_negative_word_counts'] = hotels['review_total_negative_word_counts'].astype('UInt16')\n",
    "hotels['review_total_positive_word_counts'] = hotels['review_total_positive_word_counts'].astype('UInt16')\n",
    "hotels['total_number_of_reviews_reviewer_has_given'] = hotels['total_number_of_reviews_reviewer_has_given'].astype('UInt16')\n",
    "hotels['reviewer_score'] = hotels['reviewer_score'].astype('Float32')\n",
    "hotels['average_score'] = hotels['average_score'].astype('Float32')"
   ]
  },
  {
   "cell_type": "code",
   "execution_count": 19,
   "metadata": {},
   "outputs": [
    {
     "data": {
      "text/html": [
       "<div>\n",
       "<style scoped>\n",
       "    .dataframe tbody tr th:only-of-type {\n",
       "        vertical-align: middle;\n",
       "    }\n",
       "\n",
       "    .dataframe tbody tr th {\n",
       "        vertical-align: top;\n",
       "    }\n",
       "\n",
       "    .dataframe thead th {\n",
       "        text-align: right;\n",
       "    }\n",
       "</style>\n",
       "<table border=\"1\" class=\"dataframe\">\n",
       "  <thead>\n",
       "    <tr style=\"text-align: right;\">\n",
       "      <th></th>\n",
       "      <th>lat</th>\n",
       "      <th>lng</th>\n",
       "      <th>total_number_of_reviews</th>\n",
       "      <th>additional_number_of_scoring</th>\n",
       "      <th>review_total_negative_word_counts</th>\n",
       "      <th>review_total_positive_word_counts</th>\n",
       "      <th>total_number_of_reviews_reviewer_has_given</th>\n",
       "      <th>reviewer_score</th>\n",
       "      <th>average_score</th>\n",
       "    </tr>\n",
       "  </thead>\n",
       "  <tbody>\n",
       "    <tr>\n",
       "      <th>0</th>\n",
       "      <td>51.507893</td>\n",
       "      <td>-0.143671</td>\n",
       "      <td>1994</td>\n",
       "      <td>581</td>\n",
       "      <td>3</td>\n",
       "      <td>4</td>\n",
       "      <td>7</td>\n",
       "      <td>10.0</td>\n",
       "      <td>8.4</td>\n",
       "    </tr>\n",
       "    <tr>\n",
       "      <th>1</th>\n",
       "      <td>51.521008</td>\n",
       "      <td>-0.123097</td>\n",
       "      <td>1361</td>\n",
       "      <td>299</td>\n",
       "      <td>3</td>\n",
       "      <td>2</td>\n",
       "      <td>14</td>\n",
       "      <td>6.3</td>\n",
       "      <td>8.3</td>\n",
       "    </tr>\n",
       "    <tr>\n",
       "      <th>2</th>\n",
       "      <td>48.845379</td>\n",
       "      <td>2.325643</td>\n",
       "      <td>406</td>\n",
       "      <td>32</td>\n",
       "      <td>6</td>\n",
       "      <td>0</td>\n",
       "      <td>14</td>\n",
       "      <td>7.5</td>\n",
       "      <td>8.9</td>\n",
       "    </tr>\n",
       "    <tr>\n",
       "      <th>3</th>\n",
       "      <td>48.888699</td>\n",
       "      <td>2.39454</td>\n",
       "      <td>607</td>\n",
       "      <td>34</td>\n",
       "      <td>0</td>\n",
       "      <td>11</td>\n",
       "      <td>8</td>\n",
       "      <td>10.0</td>\n",
       "      <td>7.5</td>\n",
       "    </tr>\n",
       "    <tr>\n",
       "      <th>4</th>\n",
       "      <td>52.385601</td>\n",
       "      <td>4.84706</td>\n",
       "      <td>7586</td>\n",
       "      <td>914</td>\n",
       "      <td>4</td>\n",
       "      <td>20</td>\n",
       "      <td>10</td>\n",
       "      <td>9.6</td>\n",
       "      <td>8.5</td>\n",
       "    </tr>\n",
       "  </tbody>\n",
       "</table>\n",
       "</div>"
      ],
      "text/plain": [
       "         lat       lng  total_number_of_reviews  additional_number_of_scoring  \\\n",
       "0  51.507893 -0.143671                     1994                           581   \n",
       "1  51.521008 -0.123097                     1361                           299   \n",
       "2  48.845379  2.325643                      406                            32   \n",
       "3  48.888699   2.39454                      607                            34   \n",
       "4  52.385601   4.84706                     7586                           914   \n",
       "\n",
       "   review_total_negative_word_counts  review_total_positive_word_counts  \\\n",
       "0                                  3                                  4   \n",
       "1                                  3                                  2   \n",
       "2                                  6                                  0   \n",
       "3                                  0                                 11   \n",
       "4                                  4                                 20   \n",
       "\n",
       "   total_number_of_reviews_reviewer_has_given  reviewer_score  average_score  \n",
       "0                                           7            10.0            8.4  \n",
       "1                                          14             6.3            8.3  \n",
       "2                                          14             7.5            8.9  \n",
       "3                                           8            10.0            7.5  \n",
       "4                                          10             9.6            8.5  "
      ]
     },
     "execution_count": 19,
     "metadata": {},
     "output_type": "execute_result"
    }
   ],
   "source": [
    "hotels[other_cat_cols].head()"
   ]
  },
  {
   "cell_type": "code",
   "execution_count": 20,
   "metadata": {},
   "outputs": [],
   "source": [
    "hotels['negative_review'] = hotels['negative_review'].astype('string')\n",
    "hotels['positive_review'] = hotels['positive_review'].astype('string')"
   ]
  },
  {
   "cell_type": "markdown",
   "metadata": {},
   "source": [
    "### 1.2.3. Работа с признаком \"Tags\""
   ]
  },
  {
   "cell_type": "code",
   "execution_count": null,
   "metadata": {},
   "outputs": [],
   "source": [
    "# a = (\n",
    "#         hotels['tags']\n",
    "#         .explode()\n",
    "#         .str.strip()\n",
    "#         .value_counts()\n",
    "#         .to_frame()\n",
    "#         )\n",
    "# tags_unique_list = dict(zip(b:=(\n",
    "#                                 pd.DataFrame(\n",
    "#                                                 zip(\n",
    "#                                                         a.index,\n",
    "#                                                         scaler.fit_transform(a.values).flatten()\n",
    "#                                                         ),\n",
    "#                                                 columns=('tags', 'proportion')\n",
    "#                                             )\n",
    "#                                 .query('proportion > 0.2')['tags']\n",
    "#                                 .values\n",
    "#                                 ),\n",
    "#                                 [False]*len(b)\n",
    "#                             ))"
   ]
  },
  {
   "cell_type": "code",
   "execution_count": 21,
   "metadata": {},
   "outputs": [
    {
     "data": {
      "text/plain": [
       "(386803, 27)"
      ]
     },
     "execution_count": 21,
     "metadata": {},
     "output_type": "execute_result"
    }
   ],
   "source": [
    "tags_unique_list = dict(zip(a:=(\n",
    "                            hotels['tags']\n",
    "                            .explode()\n",
    "                            .str.strip()\n",
    "                            # .unique()\n",
    "                            .value_counts()\n",
    "                            .to_frame()\n",
    "                            .assign(count=lambda x: x['count']/hotels.shape[0])\n",
    "                            .query('count > 0.1')\n",
    "                            .index\n",
    "                            ),\n",
    "                            [False]*len(a)\n",
    "                            ))\n",
    "\n",
    "\n",
    " \n",
    "def get_dummis_table(row: pd.Series, tags_unique_list: dict):\n",
    "    import pandas as pd\n",
    "    tmp_dict =tags_unique_list.copy()\n",
    "    for item in list(map(lambda x: x.strip(), row)):\n",
    "        if item in tmp_dict.keys():\n",
    "            tmp_dict[item] = True\n",
    "    return pd.Series(tmp_dict)\n",
    "\n",
    "\n",
    "hotels = pd.concat((hotels, hotels['tags'].parallel_apply(get_dummis_table, args=(tags_unique_list,))), axis=1)\n",
    "clear_output()\n",
    "hotels.shape\n"
   ]
  },
  {
   "cell_type": "markdown",
   "metadata": {},
   "source": [
    "### 1.2.4. Работа с отзывами."
   ]
  },
  {
   "cell_type": "code",
   "execution_count": 22,
   "metadata": {},
   "outputs": [],
   "source": [
    "nltk.download('stopwords')\n",
    "nltk.download('punkt')\n",
    "\n",
    "# Удаление пунктуации\n",
    "def remove_punctuation(text: str):\n",
    "    import string\n",
    "    translator = str.maketrans('', '', string.punctuation)\n",
    "    return text.translate(translator)\n",
    "\n",
    "# Убираем стом слова\n",
    "def remove_stopwords(text: str):\n",
    "    from nltk.corpus import stopwords\n",
    "    from nltk.tokenize import word_tokenize\n",
    "    \n",
    "    text = text.lower()\n",
    "    stop_words = set(stopwords.words('english'))\n",
    "    tokens = word_tokenize(text)\n",
    "    filtered_text = [word for word in tokens if word not in stop_words]\n",
    "    return ' '.join(filtered_text)\n",
    "\n",
    "# Нормализуем окончания\n",
    "def normalize_endings(text: str):\n",
    "    from nltk.tokenize import word_tokenize\n",
    "    from nltk.stem import SnowballStemmer\n",
    "    \n",
    "    stemmer = SnowballStemmer('english')\n",
    "    tokens = word_tokenize(text)\n",
    "    normalized_text = [stemmer.stem(word) for word in tokens]\n",
    "    return ' '.join(normalized_text)\n",
    "\n",
    "\n",
    "hotels['negative_review'] = hotels['negative_review'].progress_apply(remove_punctuation)\n",
    "clear_output()\n",
    "\n",
    "hotels['negative_review'] = hotels['negative_review'].parallel_apply(remove_stopwords)\n",
    "clear_output()\n",
    "\n",
    "hotels['negative_review'] = hotels['negative_review'].parallel_apply(normalize_endings)\n",
    "clear_output()\n",
    "\n",
    "hotels['positive_review'] = hotels['positive_review'].progress_apply(remove_punctuation)\n",
    "clear_output()\n",
    "\n",
    "hotels['positive_review'] = hotels['positive_review'].parallel_apply(remove_stopwords)\n",
    "clear_output()\n",
    "\n",
    "hotels['positive_review'] = hotels['positive_review'].parallel_apply(normalize_endings)\n",
    "clear_output()\n",
    "\n",
    "hotels['positive_review'] = hotels['positive_review'].str.split()\n",
    "hotels['negative_review'] = hotels['negative_review'].str.split()"
   ]
  },
  {
   "cell_type": "code",
   "execution_count": 23,
   "metadata": {},
   "outputs": [
    {
     "data": {
      "text/plain": [
       "(386803, 45)"
      ]
     },
     "execution_count": 23,
     "metadata": {},
     "output_type": "execute_result"
    }
   ],
   "source": [
    "review_unique_dict = dict(zip(a:=(\n",
    "                                pd.concat((hotels['positive_review'], hotels['negative_review']), axis=0, ignore_index=True)\n",
    "                                .explode(ignore_index=True)\n",
    "                                # .unique()\n",
    "                                .value_counts()\n",
    "                                .to_frame()\n",
    "                                .assign(count=lambda x: x['count']/hotels.shape[0])\n",
    "                                .query('count > 0.1')\n",
    "                                .index\n",
    "                                ),\n",
    "                              [False]*len(a)\n",
    "                              ))\n",
    "\n",
    "\n",
    "\n",
    "def get_dummis_review_table(row: pd.Series, review_unique_dict: dict):\n",
    "    import pandas as pd\n",
    "    tmp_dict = review_unique_dict.copy()\n",
    "    for item in row['positive_review']:\n",
    "        if item in tmp_dict.keys():\n",
    "            tmp_dict[item] = True\n",
    "    for item in row['positive_review']:\n",
    "        if item in tmp_dict.keys():\n",
    "            tmp_dict[item] = True\n",
    "    return pd.Series(tmp_dict)\n",
    "\n",
    "hotels = pd.concat((hotels, hotels.parallel_apply(get_dummis_review_table, args=(review_unique_dict,), axis=1)), axis=1)\n",
    "clear_output()\n",
    "hotels.shape"
   ]
  },
  {
   "cell_type": "code",
   "execution_count": 24,
   "metadata": {},
   "outputs": [],
   "source": [
    "hotels = (\n",
    "            hotels\n",
    "            .drop(columns=(\n",
    "                            (hotels.iloc[:,17:].sum(axis=0)/hotels.shape[0])\n",
    "                            .to_frame(name='proportion')\n",
    "                            .query('proportion < 0.1')\n",
    "                            .index\n",
    "                        ))\n",
    "            .drop(columns=['negative_review', 'positive_review', 'tags'])\n",
    "        )"
   ]
  },
  {
   "cell_type": "code",
   "execution_count": 25,
   "metadata": {},
   "outputs": [],
   "source": [
    "hotels.to_parquet('data/hotels_v2_parquet.gzip', engine='pyarrow', compression='gzip')"
   ]
  },
  {
   "cell_type": "markdown",
   "metadata": {},
   "source": [
    "# 2. Подготовка данных для модели"
   ]
  },
  {
   "cell_type": "code",
   "execution_count": 28,
   "metadata": {},
   "outputs": [],
   "source": [
    "hotels = pd.read_parquet('data/hotels_v2_parquet.gzip')"
   ]
  },
  {
   "cell_type": "markdown",
   "metadata": {},
   "source": [
    "## Работа со строкой"
   ]
  },
  {
   "cell_type": "code",
   "execution_count": 18,
   "metadata": {},
   "outputs": [],
   "source": [
    "# Удаление пунктуации\n",
    "def remove_punctuation(text: str):\n",
    "    import string\n",
    "    translator = str.maketrans('', '', string.punctuation)\n",
    "    return text.translate(translator)\n",
    "\n",
    "\n",
    "hotels['negative_review'] = hotels['negative_review'].progress_apply(remove_punctuation)\n",
    "clear_output()\n",
    "\n",
    "\n",
    "import nltk\n",
    "from nltk.corpus import stopwords\n",
    "from nltk.tokenize import word_tokenize\n",
    "\n",
    "nltk.download('stopwords')\n",
    "nltk.download('punkt')\n",
    "def remove_stopwords(text: str):\n",
    "    from nltk.corpus import stopwords\n",
    "    from nltk.tokenize import word_tokenize\n",
    "    stop_words = set(stopwords.words('english'))\n",
    "    tokens = word_tokenize(text.lower())\n",
    "    filtered_text = [word for word in tokens if word.lower() not in stop_words]\n",
    "    return ' '.join(filtered_text)\n",
    "\n",
    "\n",
    "hotels['negative_review'] = hotels['negative_review'].parallel_apply(remove_stopwords)\n",
    "clear_output()\n",
    "\n",
    "\n",
    "def normalize_endings(text: str):\n",
    "    from nltk.tokenize import word_tokenize\n",
    "    from nltk.stem import SnowballStemmer\n",
    "    stemmer = SnowballStemmer('english')\n",
    "    tokens = word_tokenize(text)\n",
    "    normalized_text = [stemmer.stem(word) for word in tokens]\n",
    "    return ' '.join(normalized_text)\n",
    "\n",
    "\n",
    "hotels['negative_review'] = hotels['negative_review'].parallel_apply(normalize_endings)\n",
    "clear_output()\n"
   ]
  },
  {
   "cell_type": "markdown",
   "metadata": {},
   "source": [
    "# 2. Подготовка данных для модели"
   ]
  },
  {
   "cell_type": "code",
   "execution_count": 198,
   "metadata": {},
   "outputs": [],
   "source": [
    "# Разбиваем датафрейм на части, необходимые для обучения и тестирования модели  \n",
    "# Х - данные с информацией об отелях, у - целевая переменная (рейтинги отелей)  \n",
    "X = hotels.drop(['reviewer_score'], axis = 1)  \n",
    "y = hotels['reviewer_score'] "
   ]
  },
  {
   "cell_type": "code",
   "execution_count": 11,
   "metadata": {},
   "outputs": [],
   "source": [
    "# Загружаем специальный инструмент для разбивки:  \n",
    "from sklearn.model_selection import train_test_split  "
   ]
  },
  {
   "cell_type": "code",
   "execution_count": 12,
   "metadata": {},
   "outputs": [],
   "source": [
    "# Наборы данных с меткой \"train\" будут использоваться для обучения модели, \"test\" - для тестирования.  \n",
    "# Для тестирования мы будем использовать 25% от исходного датасета.  \n",
    "X_train, X_test, y_train, y_test = train_test_split(X, y, test_size=0.25, random_state=42)"
   ]
  },
  {
   "cell_type": "code",
   "execution_count": 13,
   "metadata": {},
   "outputs": [
    {
     "ename": "ValueError",
     "evalue": "could not convert string to float: 'Pla a de Llevant s n Sant Mart 08019 Barcelona Spain'",
     "output_type": "error",
     "traceback": [
      "\u001b[1;31m---------------------------------------------------------------------------\u001b[0m",
      "\u001b[1;31mValueError\u001b[0m                                Traceback (most recent call last)",
      "Cell \u001b[1;32mIn[13], line 9\u001b[0m\n\u001b[0;32m      6\u001b[0m regr \u001b[39m=\u001b[39m RandomForestRegressor(n_estimators\u001b[39m=\u001b[39m\u001b[39m100\u001b[39m)  \n\u001b[0;32m      8\u001b[0m \u001b[39m# Обучаем модель на тестовом наборе данных  \u001b[39;00m\n\u001b[1;32m----> 9\u001b[0m regr\u001b[39m.\u001b[39;49mfit(X_train, y_train)  \n\u001b[0;32m     11\u001b[0m \u001b[39m# Используем обученную модель для предсказания рейтинга отелей в тестовой выборке.  \u001b[39;00m\n\u001b[0;32m     12\u001b[0m \u001b[39m# Предсказанные значения записываем в переменную y_pred  \u001b[39;00m\n\u001b[0;32m     13\u001b[0m y_pred \u001b[39m=\u001b[39m regr\u001b[39m.\u001b[39mpredict(X_test)  \n",
      "File \u001b[1;32mc:\\Users\\f999145\\AppData\\Local\\Programs\\Python\\Python311\\Lib\\site-packages\\sklearn\\ensemble\\_forest.py:345\u001b[0m, in \u001b[0;36mBaseForest.fit\u001b[1;34m(self, X, y, sample_weight)\u001b[0m\n\u001b[0;32m    343\u001b[0m \u001b[39mif\u001b[39;00m issparse(y):\n\u001b[0;32m    344\u001b[0m     \u001b[39mraise\u001b[39;00m \u001b[39mValueError\u001b[39;00m(\u001b[39m\"\u001b[39m\u001b[39msparse multilabel-indicator for y is not supported.\u001b[39m\u001b[39m\"\u001b[39m)\n\u001b[1;32m--> 345\u001b[0m X, y \u001b[39m=\u001b[39m \u001b[39mself\u001b[39;49m\u001b[39m.\u001b[39;49m_validate_data(\n\u001b[0;32m    346\u001b[0m     X, y, multi_output\u001b[39m=\u001b[39;49m\u001b[39mTrue\u001b[39;49;00m, accept_sparse\u001b[39m=\u001b[39;49m\u001b[39m\"\u001b[39;49m\u001b[39mcsc\u001b[39;49m\u001b[39m\"\u001b[39;49m, dtype\u001b[39m=\u001b[39;49mDTYPE\n\u001b[0;32m    347\u001b[0m )\n\u001b[0;32m    348\u001b[0m \u001b[39mif\u001b[39;00m sample_weight \u001b[39mis\u001b[39;00m \u001b[39mnot\u001b[39;00m \u001b[39mNone\u001b[39;00m:\n\u001b[0;32m    349\u001b[0m     sample_weight \u001b[39m=\u001b[39m _check_sample_weight(sample_weight, X)\n",
      "File \u001b[1;32mc:\\Users\\f999145\\AppData\\Local\\Programs\\Python\\Python311\\Lib\\site-packages\\sklearn\\base.py:584\u001b[0m, in \u001b[0;36mBaseEstimator._validate_data\u001b[1;34m(self, X, y, reset, validate_separately, **check_params)\u001b[0m\n\u001b[0;32m    582\u001b[0m         y \u001b[39m=\u001b[39m check_array(y, input_name\u001b[39m=\u001b[39m\u001b[39m\"\u001b[39m\u001b[39my\u001b[39m\u001b[39m\"\u001b[39m, \u001b[39m*\u001b[39m\u001b[39m*\u001b[39mcheck_y_params)\n\u001b[0;32m    583\u001b[0m     \u001b[39melse\u001b[39;00m:\n\u001b[1;32m--> 584\u001b[0m         X, y \u001b[39m=\u001b[39m check_X_y(X, y, \u001b[39m*\u001b[39;49m\u001b[39m*\u001b[39;49mcheck_params)\n\u001b[0;32m    585\u001b[0m     out \u001b[39m=\u001b[39m X, y\n\u001b[0;32m    587\u001b[0m \u001b[39mif\u001b[39;00m \u001b[39mnot\u001b[39;00m no_val_X \u001b[39mand\u001b[39;00m check_params\u001b[39m.\u001b[39mget(\u001b[39m\"\u001b[39m\u001b[39mensure_2d\u001b[39m\u001b[39m\"\u001b[39m, \u001b[39mTrue\u001b[39;00m):\n",
      "File \u001b[1;32mc:\\Users\\f999145\\AppData\\Local\\Programs\\Python\\Python311\\Lib\\site-packages\\sklearn\\utils\\validation.py:1106\u001b[0m, in \u001b[0;36mcheck_X_y\u001b[1;34m(X, y, accept_sparse, accept_large_sparse, dtype, order, copy, force_all_finite, ensure_2d, allow_nd, multi_output, ensure_min_samples, ensure_min_features, y_numeric, estimator)\u001b[0m\n\u001b[0;32m   1101\u001b[0m         estimator_name \u001b[39m=\u001b[39m _check_estimator_name(estimator)\n\u001b[0;32m   1102\u001b[0m     \u001b[39mraise\u001b[39;00m \u001b[39mValueError\u001b[39;00m(\n\u001b[0;32m   1103\u001b[0m         \u001b[39mf\u001b[39m\u001b[39m\"\u001b[39m\u001b[39m{\u001b[39;00mestimator_name\u001b[39m}\u001b[39;00m\u001b[39m requires y to be passed, but the target y is None\u001b[39m\u001b[39m\"\u001b[39m\n\u001b[0;32m   1104\u001b[0m     )\n\u001b[1;32m-> 1106\u001b[0m X \u001b[39m=\u001b[39m check_array(\n\u001b[0;32m   1107\u001b[0m     X,\n\u001b[0;32m   1108\u001b[0m     accept_sparse\u001b[39m=\u001b[39;49maccept_sparse,\n\u001b[0;32m   1109\u001b[0m     accept_large_sparse\u001b[39m=\u001b[39;49maccept_large_sparse,\n\u001b[0;32m   1110\u001b[0m     dtype\u001b[39m=\u001b[39;49mdtype,\n\u001b[0;32m   1111\u001b[0m     order\u001b[39m=\u001b[39;49morder,\n\u001b[0;32m   1112\u001b[0m     copy\u001b[39m=\u001b[39;49mcopy,\n\u001b[0;32m   1113\u001b[0m     force_all_finite\u001b[39m=\u001b[39;49mforce_all_finite,\n\u001b[0;32m   1114\u001b[0m     ensure_2d\u001b[39m=\u001b[39;49mensure_2d,\n\u001b[0;32m   1115\u001b[0m     allow_nd\u001b[39m=\u001b[39;49mallow_nd,\n\u001b[0;32m   1116\u001b[0m     ensure_min_samples\u001b[39m=\u001b[39;49mensure_min_samples,\n\u001b[0;32m   1117\u001b[0m     ensure_min_features\u001b[39m=\u001b[39;49mensure_min_features,\n\u001b[0;32m   1118\u001b[0m     estimator\u001b[39m=\u001b[39;49mestimator,\n\u001b[0;32m   1119\u001b[0m     input_name\u001b[39m=\u001b[39;49m\u001b[39m\"\u001b[39;49m\u001b[39mX\u001b[39;49m\u001b[39m\"\u001b[39;49m,\n\u001b[0;32m   1120\u001b[0m )\n\u001b[0;32m   1122\u001b[0m y \u001b[39m=\u001b[39m _check_y(y, multi_output\u001b[39m=\u001b[39mmulti_output, y_numeric\u001b[39m=\u001b[39my_numeric, estimator\u001b[39m=\u001b[39mestimator)\n\u001b[0;32m   1124\u001b[0m check_consistent_length(X, y)\n",
      "File \u001b[1;32mc:\\Users\\f999145\\AppData\\Local\\Programs\\Python\\Python311\\Lib\\site-packages\\sklearn\\utils\\validation.py:879\u001b[0m, in \u001b[0;36mcheck_array\u001b[1;34m(array, accept_sparse, accept_large_sparse, dtype, order, copy, force_all_finite, ensure_2d, allow_nd, ensure_min_samples, ensure_min_features, estimator, input_name)\u001b[0m\n\u001b[0;32m    877\u001b[0m         array \u001b[39m=\u001b[39m xp\u001b[39m.\u001b[39mastype(array, dtype, copy\u001b[39m=\u001b[39m\u001b[39mFalse\u001b[39;00m)\n\u001b[0;32m    878\u001b[0m     \u001b[39melse\u001b[39;00m:\n\u001b[1;32m--> 879\u001b[0m         array \u001b[39m=\u001b[39m _asarray_with_order(array, order\u001b[39m=\u001b[39;49morder, dtype\u001b[39m=\u001b[39;49mdtype, xp\u001b[39m=\u001b[39;49mxp)\n\u001b[0;32m    880\u001b[0m \u001b[39mexcept\u001b[39;00m ComplexWarning \u001b[39mas\u001b[39;00m complex_warning:\n\u001b[0;32m    881\u001b[0m     \u001b[39mraise\u001b[39;00m \u001b[39mValueError\u001b[39;00m(\n\u001b[0;32m    882\u001b[0m         \u001b[39m\"\u001b[39m\u001b[39mComplex data not supported\u001b[39m\u001b[39m\\n\u001b[39;00m\u001b[39m{}\u001b[39;00m\u001b[39m\\n\u001b[39;00m\u001b[39m\"\u001b[39m\u001b[39m.\u001b[39mformat(array)\n\u001b[0;32m    883\u001b[0m     ) \u001b[39mfrom\u001b[39;00m \u001b[39mcomplex_warning\u001b[39;00m\n",
      "File \u001b[1;32mc:\\Users\\f999145\\AppData\\Local\\Programs\\Python\\Python311\\Lib\\site-packages\\sklearn\\utils\\_array_api.py:185\u001b[0m, in \u001b[0;36m_asarray_with_order\u001b[1;34m(array, dtype, order, copy, xp)\u001b[0m\n\u001b[0;32m    182\u001b[0m     xp, _ \u001b[39m=\u001b[39m get_namespace(array)\n\u001b[0;32m    183\u001b[0m \u001b[39mif\u001b[39;00m xp\u001b[39m.\u001b[39m\u001b[39m__name__\u001b[39m \u001b[39min\u001b[39;00m {\u001b[39m\"\u001b[39m\u001b[39mnumpy\u001b[39m\u001b[39m\"\u001b[39m, \u001b[39m\"\u001b[39m\u001b[39mnumpy.array_api\u001b[39m\u001b[39m\"\u001b[39m}:\n\u001b[0;32m    184\u001b[0m     \u001b[39m# Use NumPy API to support order\u001b[39;00m\n\u001b[1;32m--> 185\u001b[0m     array \u001b[39m=\u001b[39m numpy\u001b[39m.\u001b[39;49masarray(array, order\u001b[39m=\u001b[39;49morder, dtype\u001b[39m=\u001b[39;49mdtype)\n\u001b[0;32m    186\u001b[0m     \u001b[39mreturn\u001b[39;00m xp\u001b[39m.\u001b[39masarray(array, copy\u001b[39m=\u001b[39mcopy)\n\u001b[0;32m    187\u001b[0m \u001b[39melse\u001b[39;00m:\n",
      "File \u001b[1;32mc:\\Users\\f999145\\AppData\\Local\\Programs\\Python\\Python311\\Lib\\site-packages\\pandas\\core\\generic.py:1998\u001b[0m, in \u001b[0;36mNDFrame.__array__\u001b[1;34m(self, dtype)\u001b[0m\n\u001b[0;32m   1996\u001b[0m \u001b[39mdef\u001b[39;00m \u001b[39m__array__\u001b[39m(\u001b[39mself\u001b[39m, dtype: npt\u001b[39m.\u001b[39mDTypeLike \u001b[39m|\u001b[39m \u001b[39mNone\u001b[39;00m \u001b[39m=\u001b[39m \u001b[39mNone\u001b[39;00m) \u001b[39m-\u001b[39m\u001b[39m>\u001b[39m np\u001b[39m.\u001b[39mndarray:\n\u001b[0;32m   1997\u001b[0m     values \u001b[39m=\u001b[39m \u001b[39mself\u001b[39m\u001b[39m.\u001b[39m_values\n\u001b[1;32m-> 1998\u001b[0m     arr \u001b[39m=\u001b[39m np\u001b[39m.\u001b[39;49masarray(values, dtype\u001b[39m=\u001b[39;49mdtype)\n\u001b[0;32m   1999\u001b[0m     \u001b[39mif\u001b[39;00m (\n\u001b[0;32m   2000\u001b[0m         astype_is_view(values\u001b[39m.\u001b[39mdtype, arr\u001b[39m.\u001b[39mdtype)\n\u001b[0;32m   2001\u001b[0m         \u001b[39mand\u001b[39;00m using_copy_on_write()\n\u001b[0;32m   2002\u001b[0m         \u001b[39mand\u001b[39;00m \u001b[39mself\u001b[39m\u001b[39m.\u001b[39m_mgr\u001b[39m.\u001b[39mis_single_block\n\u001b[0;32m   2003\u001b[0m     ):\n\u001b[0;32m   2004\u001b[0m         \u001b[39m# Check if both conversions can be done without a copy\u001b[39;00m\n\u001b[0;32m   2005\u001b[0m         \u001b[39mif\u001b[39;00m astype_is_view(\u001b[39mself\u001b[39m\u001b[39m.\u001b[39mdtypes\u001b[39m.\u001b[39miloc[\u001b[39m0\u001b[39m], values\u001b[39m.\u001b[39mdtype) \u001b[39mand\u001b[39;00m astype_is_view(\n\u001b[0;32m   2006\u001b[0m             values\u001b[39m.\u001b[39mdtype, arr\u001b[39m.\u001b[39mdtype\n\u001b[0;32m   2007\u001b[0m         ):\n",
      "\u001b[1;31mValueError\u001b[0m: could not convert string to float: 'Pla a de Llevant s n Sant Mart 08019 Barcelona Spain'"
     ]
    }
   ],
   "source": [
    "# Импортируем необходимые библиотеки:  \n",
    "from sklearn.ensemble import RandomForestRegressor # инструмент для создания и обучения модели  \n",
    "from sklearn import metrics # инструменты для оценки точности модели  \n",
    "  \n",
    "# Создаём модель  \n",
    "regr = RandomForestRegressor(n_estimators=100)  \n",
    "      \n",
    "# Обучаем модель на тестовом наборе данных  \n",
    "regr.fit(X_train, y_train)  \n",
    "      \n",
    "# Используем обученную модель для предсказания рейтинга отелей в тестовой выборке.  \n",
    "# Предсказанные значения записываем в переменную y_pred  \n",
    "y_pred = regr.predict(X_test)  \n"
   ]
  },
  {
   "cell_type": "code",
   "execution_count": 9,
   "metadata": {},
   "outputs": [
    {
     "name": "stdout",
     "output_type": "stream",
     "text": [
      "MAPE: 0.14138286324223787\n"
     ]
    }
   ],
   "source": [
    "# Сравниваем предсказанные значения (y_pred) с реальными (y_test), и смотрим насколько они отличаются  \n",
    "# Метрика называется Mean Absolute Percentage Error (MAPE) и показывает среднюю абсолютную процентную ошибку предсказанных значений от фактических.  \n",
    "print('MAPE:', metrics.mean_absolute_percentage_error(y_test, y_pred))"
   ]
  },
  {
   "attachments": {},
   "cell_type": "markdown",
   "metadata": {},
   "source": [
    "Небольшой бонус:\n"
   ]
  },
  {
   "cell_type": "code",
   "execution_count": 10,
   "metadata": {},
   "outputs": [],
   "source": [
    "# # убираем признаки которые еще не успели обработать, \n",
    "# # модель на признаках с dtypes \"object\" обучаться не будет, просто выберим их и удалим\n",
    "# object_columns = [s for s in hotels.columns if hotels[s].dtypes == 'object']\n",
    "# hotels.drop(object_columns, axis = 1, inplace=True)\n",
    "\n",
    "# # заполняем пропуски самым простым способом\n",
    "# hotels = hotels.fillna(0)"
   ]
  }
 ],
 "metadata": {
  "kernelspec": {
   "display_name": "Python 3 (ipykernel)",
   "language": "python",
   "name": "python3"
  },
  "language_info": {
   "codemirror_mode": {
    "name": "ipython",
    "version": 3
   },
   "file_extension": ".py",
   "mimetype": "text/x-python",
   "name": "python",
   "nbconvert_exporter": "python",
   "pygments_lexer": "ipython3",
   "version": "3.11.6"
  }
 },
 "nbformat": 4,
 "nbformat_minor": 4
}
