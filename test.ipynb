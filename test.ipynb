{
 "cells": [
  {
   "cell_type": "code",
   "execution_count": 1,
   "metadata": {},
   "outputs": [],
   "source": [
    "import pandas as pd"
   ]
  },
  {
   "cell_type": "code",
   "execution_count": 29,
   "metadata": {},
   "outputs": [
    {
     "data": {
      "text/html": [
       "<div>\n",
       "<style scoped>\n",
       "    .dataframe tbody tr th:only-of-type {\n",
       "        vertical-align: middle;\n",
       "    }\n",
       "\n",
       "    .dataframe tbody tr th {\n",
       "        vertical-align: top;\n",
       "    }\n",
       "\n",
       "    .dataframe thead th {\n",
       "        text-align: right;\n",
       "    }\n",
       "</style>\n",
       "<table border=\"1\" class=\"dataframe\">\n",
       "  <thead>\n",
       "    <tr style=\"text-align: right;\">\n",
       "      <th></th>\n",
       "      <th>col_name</th>\n",
       "      <th>MAPE</th>\n",
       "    </tr>\n",
       "  </thead>\n",
       "  <tbody>\n",
       "    <tr>\n",
       "      <th>0</th>\n",
       "      <td>Standard Double or Twin Room</td>\n",
       "      <td>0.126988</td>\n",
       "    </tr>\n",
       "    <tr>\n",
       "      <th>1</th>\n",
       "      <td>Classic Double or Twin Room</td>\n",
       "      <td>0.126997</td>\n",
       "    </tr>\n",
       "    <tr>\n",
       "      <th>2</th>\n",
       "      <td>close</td>\n",
       "      <td>0.127008</td>\n",
       "    </tr>\n",
       "    <tr>\n",
       "      <th>3</th>\n",
       "      <td>back</td>\n",
       "      <td>0.127023</td>\n",
       "    </tr>\n",
       "    <tr>\n",
       "      <th>4</th>\n",
       "      <td>qualiti</td>\n",
       "      <td>0.127041</td>\n",
       "    </tr>\n",
       "    <tr>\n",
       "      <th>...</th>\n",
       "      <td>...</td>\n",
       "      <td>...</td>\n",
       "    </tr>\n",
       "    <tr>\n",
       "      <th>183</th>\n",
       "      <td>good</td>\n",
       "      <td>0.127489</td>\n",
       "    </tr>\n",
       "    <tr>\n",
       "      <th>184</th>\n",
       "      <td>staff</td>\n",
       "      <td>0.127655</td>\n",
       "    </tr>\n",
       "    <tr>\n",
       "      <th>185</th>\n",
       "      <td>excel</td>\n",
       "      <td>0.127678</td>\n",
       "    </tr>\n",
       "    <tr>\n",
       "      <th>186</th>\n",
       "      <td>everyth</td>\n",
       "      <td>0.128099</td>\n",
       "    </tr>\n",
       "    <tr>\n",
       "      <th>187</th>\n",
       "      <td>noth</td>\n",
       "      <td>0.129273</td>\n",
       "    </tr>\n",
       "  </tbody>\n",
       "</table>\n",
       "<p>188 rows × 2 columns</p>\n",
       "</div>"
      ],
      "text/plain": [
       "                         col_name      MAPE\n",
       "0    Standard Double or Twin Room  0.126988\n",
       "1     Classic Double or Twin Room  0.126997\n",
       "2                           close  0.127008\n",
       "3                            back  0.127023\n",
       "4                         qualiti  0.127041\n",
       "..                            ...       ...\n",
       "183                          good  0.127489\n",
       "184                         staff  0.127655\n",
       "185                         excel  0.127678\n",
       "186                       everyth  0.128099\n",
       "187                          noth  0.129273\n",
       "\n",
       "[188 rows x 2 columns]"
      ]
     },
     "execution_count": 29,
     "metadata": {},
     "output_type": "execute_result"
    }
   ],
   "source": [
    "df = pd.read_parquet('data/fin_df_208_parquet.gzip')\n",
    "df.sort_values('MAPE', ignore_index=True)"
   ]
  },
  {
   "cell_type": "code",
   "execution_count": 35,
   "metadata": {},
   "outputs": [
    {
     "data": {
      "text/plain": [
       "array(['Standard Double or Twin Room', 'Classic Double or Twin Room',\n",
       "       'close', 'back', 'qualiti', 'best', 'high', 'london', 'friend',\n",
       "       'Twin Room', 'stop', 'floor', 'use', 'made'], dtype=object)"
      ]
     },
     "execution_count": 35,
     "metadata": {},
     "output_type": "execute_result"
    }
   ],
   "source": [
    "df = pd.read_parquet('data/fin_df_parquet.gzip')\n",
    "df['count'] = df['col_name'].str.len()\n",
    "df.sort_values('MAPE', ignore_index=True).iloc[0]['col_name']"
   ]
  },
  {
   "cell_type": "code",
   "execution_count": 10,
   "metadata": {},
   "outputs": [
    {
     "data": {
      "text/plain": [
       "[[2, 4, 6, 4, 6], [8, 6, 8, 10, 8], [10, 12, 10, 12, 14]]"
      ]
     },
     "execution_count": 10,
     "metadata": {},
     "output_type": "execute_result"
    }
   ],
   "source": [
    "def separation_list(input_list: list, sep: int=3) -> list[list[str]]:\n",
    "    \"\"\"\n",
    "        Функция для дробления листа, что бы потом паралельно обрабатывать их паралельно.\n",
    "        sep: Сколько элементов'.\n",
    "    \"\"\"\n",
    "    out_list = list()\n",
    "    # chunk_size = input_df.shape[0] // int(100/sep)\n",
    "    for index in range(0, len(input_list), sep):\n",
    "        out_list.append(input_list[index:index+sep])\n",
    "    return out_list\n",
    "\n",
    "separation_list(a, sep=5)"
   ]
  }
 ],
 "metadata": {
  "kernelspec": {
   "display_name": "Python 3",
   "language": "python",
   "name": "python3"
  },
  "language_info": {
   "codemirror_mode": {
    "name": "ipython",
    "version": 3
   },
   "file_extension": ".py",
   "mimetype": "text/x-python",
   "name": "python",
   "nbconvert_exporter": "python",
   "pygments_lexer": "ipython3",
   "version": "3.11.6"
  }
 },
 "nbformat": 4,
 "nbformat_minor": 2
}
