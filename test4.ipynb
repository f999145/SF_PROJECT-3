{
 "cells": [
  {
   "cell_type": "code",
   "execution_count": 11,
   "metadata": {},
   "outputs": [
    {
     "name": "stdout",
     "output_type": "stream",
     "text": [
      "float16: экспонета 32, мантиса: 1_024\n",
      "float32: экспонета 256, мантиса: 8_388_608\n",
      "float64: экспонета 2048, мантиса: 4_503_599_627_370_496\n"
     ]
    }
   ],
   "source": [
    "print(f'float16: экспонета {2**5}, мантиса: {2**10:_}')\n",
    "print(f'float32: экспонета {2**8}, мантиса: {2**23:_}')\n",
    "print(f'float64: экспонета {2**11}, мантиса: {2**52:_}')"
   ]
  }
 ],
 "metadata": {
  "kernelspec": {
   "display_name": "Python 3",
   "language": "python",
   "name": "python3"
  },
  "language_info": {
   "codemirror_mode": {
    "name": "ipython",
    "version": 3
   },
   "file_extension": ".py",
   "mimetype": "text/x-python",
   "name": "python",
   "nbconvert_exporter": "python",
   "pygments_lexer": "ipython3",
   "version": "3.11.6"
  }
 },
 "nbformat": 4,
 "nbformat_minor": 2
}
